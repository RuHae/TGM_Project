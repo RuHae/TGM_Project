{
  "cells": [
    {
      "cell_type": "code",
      "execution_count": 1,
      "id": "pVi9sObEmHsQ",
      "metadata": {
        "colab": {
          "base_uri": "https://localhost:8080/"
        },
        "id": "pVi9sObEmHsQ",
        "outputId": "f3cc89f1-a7b2-4b93-8c09-4a200fa17b7f"
      },
      "outputs": [],
      "source": [
        "# !pip install medmnist"
      ]
    },
    {
      "cell_type": "code",
      "execution_count": 2,
      "id": "79b4b6a9",
      "metadata": {
        "id": "79b4b6a9"
      },
      "outputs": [],
      "source": [
        "# https://github.com/MedMNIST/MedMNIST/blob/main/examples/getting_started.ipynb"
      ]
    },
    {
      "cell_type": "code",
      "execution_count": 3,
      "id": "2cf1bb90",
      "metadata": {},
      "outputs": [],
      "source": [
        "%load_ext autoreload\n",
        "%autoreload 1"
      ]
    },
    {
      "cell_type": "code",
      "execution_count": 4,
      "id": "d0862334",
      "metadata": {
        "id": "d0862334"
      },
      "outputs": [
        {
          "name": "stderr",
          "output_type": "stream",
          "text": [
            "/home/ruben/anaconda3/envs/cv1/lib/python3.8/site-packages/tqdm/auto.py:22: TqdmWarning: IProgress not found. Please update jupyter and ipywidgets. See https://ipywidgets.readthedocs.io/en/stable/user_install.html\n",
            "  from .autonotebook import tqdm as notebook_tqdm\n"
          ]
        }
      ],
      "source": [
        "import numpy as np\n",
        "import matplotlib.pyplot as plt\n",
        "import medmnist\n",
        "from medmnist import INFO, Evaluator\n",
        "import torch\n",
        "import torch.nn as nn\n",
        "import torch.optim as optim\n",
        "import torch.utils.data as data\n",
        "import torchvision.transforms as transforms\n",
        "import torchvision\n",
        "import torch.nn.functional as F\n",
        "\n",
        "from tqdm import tqdm\n",
        "\n",
        "%aimport basic_vae\n",
        "%aimport utils\n",
        "from utils import plot_real_vs_constructed \n",
        "from utils import load_dataset\n",
        "# from basic_vae import VariationalAutoencoder"
      ]
    },
    {
      "cell_type": "code",
      "execution_count": 22,
      "id": "821c8978",
      "metadata": {
        "colab": {
          "base_uri": "https://localhost:8080/",
          "height": 101,
          "referenced_widgets": [
            "0a9a1ed0f44a4b20a2f36dfcec52a081",
            "5f4333ae036c4307bbdc916fee99558d",
            "a80c45ee84a04b91af6531246641d1a0",
            "c09b3aa3dc314f6db743fc1baacd6a1b",
            "2099dfe37aca4a5f9cd7c972131a8cb6",
            "65c378ff5fb048df88545ee7248ae488",
            "3fde6128d3af4a4c91e94dad968cb65e",
            "05e0df2d0ab34edeb419b2f33096a647",
            "efdc7078ded5429c97105a861cef8e5d",
            "e325ec3383a844dcb2f0a25d1d5fb521",
            "a947f33680d44e8b9c900e666c52df30"
          ]
        },
        "id": "821c8978",
        "outputId": "921f58c6-b60a-4f68-ddfd-c1c30e61e081"
      },
      "outputs": [
        {
          "name": "stdout",
          "output_type": "stream",
          "text": [
            "Using downloaded and verified file: /home/ruben/.medmnist/bloodmnist.npz\n",
            "Using downloaded and verified file: /home/ruben/.medmnist/bloodmnist.npz\n",
            "Using downloaded and verified file: /home/ruben/.medmnist/bloodmnist.npz\n"
          ]
        }
      ],
      "source": [
        "data_flag = 'pathmnist'\n",
        "# data_flag = 'bloodmnist'\n",
        "# data_flag = 'organamnist'\n",
        "train_dataset, test_dataset, train_loader,_, _ = load_dataset(data_flag, 64, True)\n",
        "# data_flag = 'organcmnist'\n",
        "# train_dataset_2, test_dataset_2, train_loader_2,_, _ = load_dataset(data_flag, 64, True)\n",
        "# data_flag = 'organsmnist'\n",
        "# train_dataset_3, test_dataset_3, train_loader_3,_, _ = load_dataset(data_flag, 64, True)\n",
        "\n",
        "# train_dataset = torch.utils.data.ConcatDataset([train_dataset, train_dataset_2, train_dataset_3])\n",
        "# test_dataset = torch.utils.data.ConcatDataset([test_dataset, test_dataset_2, test_dataset_2])\n",
        "# train_loader = torch.utils.data.DataLoader(train_dataset, batch_size=64, shuffle=True)\n"
      ]
    },
    {
      "cell_type": "code",
      "execution_count": 23,
      "id": "1f6c6313",
      "metadata": {
        "colab": {
          "base_uri": "https://localhost:8080/"
        },
        "id": "1f6c6313",
        "outputId": "6de9527a-86dd-4de5-8f4d-98009456f6aa"
      },
      "outputs": [
        {
          "data": {
            "text/plain": [
              "(13000, 28, 28)"
            ]
          },
          "execution_count": 23,
          "metadata": {},
          "output_type": "execute_result"
        }
      ],
      "source": [
        "train_dataset_2.imgs.shape"
      ]
    },
    {
      "cell_type": "code",
      "execution_count": 24,
      "id": "5111c8d0",
      "metadata": {},
      "outputs": [
        {
          "ename": "AttributeError",
          "evalue": "'BloodMNIST' object has no attribute 'cumulative_sizes'",
          "output_type": "error",
          "traceback": [
            "\u001b[0;31m---------------------------------------------------------------------------\u001b[0m",
            "\u001b[0;31mAttributeError\u001b[0m                            Traceback (most recent call last)",
            "\u001b[1;32m/home/ruben/Documents/M2/TGM/Project/Code/playbook.ipynb Cell 7'\u001b[0m in \u001b[0;36m<cell line: 1>\u001b[0;34m()\u001b[0m\n\u001b[0;32m----> <a href='vscode-notebook-cell:/home/ruben/Documents/M2/TGM/Project/Code/playbook.ipynb#ch0000030?line=0'>1</a>\u001b[0m train_dataset\u001b[39m.\u001b[39;49mcumulative_sizes\n",
            "\u001b[0;31mAttributeError\u001b[0m: 'BloodMNIST' object has no attribute 'cumulative_sizes'"
          ]
        }
      ],
      "source": [
        "train_dataset.cumulative_sizes"
      ]
    },
    {
      "cell_type": "code",
      "execution_count": 27,
      "id": "74741afb",
      "metadata": {
        "colab": {
          "base_uri": "https://localhost:8080/",
          "height": 269
        },
        "id": "74741afb",
        "outputId": "08d12330-7a78-4efc-bad1-dcb64640c5d9"
      },
      "outputs": [],
      "source": [
        "from beta_conv_vae import VariationalAutoencoder\n",
        "# from basic_vae import VariationalAutoencoder\n",
        "\n",
        "latent_dims = 128 #hyperparameter we can optimze?\n",
        "device = torch.device(\"cuda:0\" if torch.cuda.is_available() else \"cpu\")\n",
        "vae = VariationalAutoencoder(latent_dims, mode=\"beta_vae\", channels=3).to(device) # GPU\n",
        "\n",
        "# vae.train(train_loader, lr=0.001, epochs=2, device=device)\n",
        "# vae.train(train_loader, lr=0.0001, epochs=10, device=device)\n",
        "# plot_latent(vae, train_loader)"
      ]
    },
    {
      "cell_type": "code",
      "execution_count": 48,
      "id": "4dd42e4e",
      "metadata": {},
      "outputs": [
        {
          "name": "stderr",
          "output_type": "stream",
          "text": [
            "100%|██████████| 187/187 [00:04<00:00, 41.21it/s]\n"
          ]
        },
        {
          "name": "stdout",
          "output_type": "stream",
          "text": [
            "Iteration: 0 Loss: 279.7 Diff: 217.15 KL: 250.21\n"
          ]
        },
        {
          "name": "stderr",
          "output_type": "stream",
          "text": [
            "100%|██████████| 187/187 [00:04<00:00, 45.75it/s]\n"
          ]
        },
        {
          "name": "stdout",
          "output_type": "stream",
          "text": [
            "Iteration: 1 Loss: 278.3 Diff: 216.41 KL: 250.04\n"
          ]
        },
        {
          "name": "stderr",
          "output_type": "stream",
          "text": [
            "100%|██████████| 187/187 [00:04<00:00, 45.57it/s]\n"
          ]
        },
        {
          "name": "stdout",
          "output_type": "stream",
          "text": [
            "Iteration: 2 Loss: 277.61 Diff: 216.37 KL: 249.96\n"
          ]
        },
        {
          "name": "stderr",
          "output_type": "stream",
          "text": [
            "100%|██████████| 187/187 [00:04<00:00, 44.82it/s]\n"
          ]
        },
        {
          "name": "stdout",
          "output_type": "stream",
          "text": [
            "Iteration: 3 Loss: 276.73 Diff: 216.16 KL: 249.8\n"
          ]
        },
        {
          "name": "stderr",
          "output_type": "stream",
          "text": [
            "100%|██████████| 187/187 [00:04<00:00, 44.38it/s]\n"
          ]
        },
        {
          "name": "stdout",
          "output_type": "stream",
          "text": [
            "Iteration: 4 Loss: 276.35 Diff: 216.33 KL: 250.08\n"
          ]
        },
        {
          "name": "stderr",
          "output_type": "stream",
          "text": [
            "100%|██████████| 187/187 [00:04<00:00, 45.42it/s]\n"
          ]
        },
        {
          "name": "stdout",
          "output_type": "stream",
          "text": [
            "Iteration: 5 Loss: 275.38 Diff: 216.01 KL: 249.96\n"
          ]
        },
        {
          "name": "stderr",
          "output_type": "stream",
          "text": [
            "100%|██████████| 187/187 [00:04<00:00, 44.07it/s]\n"
          ]
        },
        {
          "name": "stdout",
          "output_type": "stream",
          "text": [
            "Iteration: 6 Loss: 274.87 Diff: 216.17 KL: 249.83\n"
          ]
        },
        {
          "name": "stderr",
          "output_type": "stream",
          "text": [
            "100%|██████████| 187/187 [00:04<00:00, 44.75it/s]\n"
          ]
        },
        {
          "name": "stdout",
          "output_type": "stream",
          "text": [
            "Iteration: 7 Loss: 274.05 Diff: 215.94 KL: 249.92\n"
          ]
        },
        {
          "name": "stderr",
          "output_type": "stream",
          "text": [
            "100%|██████████| 187/187 [00:04<00:00, 44.48it/s]\n"
          ]
        },
        {
          "name": "stdout",
          "output_type": "stream",
          "text": [
            "Iteration: 8 Loss: 273.15 Diff: 215.65 KL: 250.01\n"
          ]
        },
        {
          "name": "stderr",
          "output_type": "stream",
          "text": [
            "100%|██████████| 187/187 [00:04<00:00, 44.33it/s]"
          ]
        },
        {
          "name": "stdout",
          "output_type": "stream",
          "text": [
            "Iteration: 9 Loss: 272.58 Diff: 215.7 KL: 250.02\n"
          ]
        },
        {
          "name": "stderr",
          "output_type": "stream",
          "text": [
            "\n"
          ]
        }
      ],
      "source": [
        "vae.train(train_loader, lr=0.00001, epochs=10, device=device)"
      ]
    },
    {
      "cell_type": "code",
      "execution_count": 50,
      "id": "4a5af9de",
      "metadata": {},
      "outputs": [
        {
          "name": "stdout",
          "output_type": "stream",
          "text": [
            "Model safed to ./blood_beta_v5\n"
          ]
        }
      ],
      "source": [
        "# vae.save_to_file(path=\"./blood_beta_v5\")"
      ]
    },
    {
      "cell_type": "code",
      "execution_count": 49,
      "id": "f559dd13",
      "metadata": {},
      "outputs": [
        {
          "name": "stdout",
          "output_type": "stream",
          "text": [
            "0.0051223416812717915\n"
          ]
        },
        {
          "data": {
            "image/png": "[encoded data removed]",
            "text/plain": [
              "<Figure size 1440x1440 with 1 Axes>"
            ]
          },
          "metadata": {
            "needs_background": "light"
          },
          "output_type": "display_data"
        }
      ],
      "source": [
        "# vae.load_from_file(path=\"./blood_beta_v2\")\n",
        "_ = plot_real_vs_constructed(vae, test_dataset, device)"
      ]
    },
    {
      "cell_type": "code",
      "execution_count": 80,
      "id": "KOxqPHmcoDL8",
      "metadata": {
        "colab": {
          "base_uri": "https://localhost:8080/",
          "height": 265
        },
        "id": "KOxqPHmcoDL8",
        "outputId": "51d992e3-b244-447f-baa1-83c943603d9f"
      },
      "outputs": [
        {
          "name": "stdout",
          "output_type": "stream",
          "text": [
            "torch.Size([1, 3, 28, 28])\n"
          ]
        },
        {
          "data": {
            "image/png": "[encoded data removed]",
            "text/plain": [
              "<Figure size 432x288 with 1 Axes>"
            ]
          },
          "metadata": {
            "needs_background": "light"
          },
          "output_type": "display_data"
        }
      ],
      "source": [
        "z = torch.randint(-2,2, (1,latent_dims), dtype=torch.float, device=device)\n",
        "img = vae.decoder.forward(z)\n",
        "print(img.shape)\n",
        "# img = F.normalize(img)\n",
        "plt.imshow(img.moveaxis(1,3).cpu().detach().numpy()[0], cmap=\"gray\")\n",
        "# plt.imshow(img.moveaxis(1, 3).cpu().detach().numpy()[0])\n",
        "plt.show()"
      ]
    },
    {
      "cell_type": "code",
      "execution_count": 85,
      "id": "90f9fee4",
      "metadata": {},
      "outputs": [],
      "source": [
        "test_img = test_dataset[5][0][None,:,:,:].to(device)\n",
        "lat = vae.encoder.forward(test_img)\n",
        "img = vae.decoder.forward(lat)"
      ]
    },
    {
      "cell_type": "code",
      "execution_count": 86,
      "id": "14030237",
      "metadata": {},
      "outputs": [
        {
          "name": "stdout",
          "output_type": "stream",
          "text": [
            "tensor(1.8950, device='cuda:0', grad_fn=<MaxBackward1>) tensor(-2.1046, device='cuda:0', grad_fn=<MinBackward1>) tensor(0.0680, device='cuda:0', grad_fn=<MeanBackward0>)\n"
          ]
        }
      ],
      "source": [
        "print(lat.max(), lat.min(), lat.mean())"
      ]
    },
    {
      "cell_type": "code",
      "execution_count": 87,
      "id": "c8137c5b",
      "metadata": {},
      "outputs": [
        {
          "data": {
            "text/plain": [
              "[]"
            ]
          },
          "execution_count": 87,
          "metadata": {},
          "output_type": "execute_result"
        },
        {
          "data": {
            "image/png": "[encoded data removed]",
            "text/plain": [
              "<Figure size 432x288 with 1 Axes>"
            ]
          },
          "metadata": {
            "needs_background": "light"
          },
          "output_type": "display_data"
        }
      ],
      "source": [
        "plt.imshow(test_img[0].moveaxis(0, 2).cpu().detach().numpy(), cmap=\"gray\")\n",
        "plt.plot()"
      ]
    },
    {
      "cell_type": "code",
      "execution_count": 88,
      "id": "5f1b5b38",
      "metadata": {},
      "outputs": [
        {
          "data": {
            "text/plain": [
              "[]"
            ]
          },
          "execution_count": 88,
          "metadata": {},
          "output_type": "execute_result"
        },
        {
          "data": {
            "image/png": "[encoded data removed]",
            "text/plain": [
              "<Figure size 432x288 with 1 Axes>"
            ]
          },
          "metadata": {
            "needs_background": "light"
          },
          "output_type": "display_data"
        }
      ],
      "source": [
        "# img = F.normalize(img)\n",
        "plt.imshow(img[0].moveaxis(0, 2).cpu().detach().numpy(), cmap=\"gray\")\n",
        "plt.plot()"
      ]
    },
    {
      "cell_type": "markdown",
      "id": "y_YZzmaEoPQH",
      "metadata": {
        "id": "y_YZzmaEoPQH"
      },
      "source": [
        "# New Section"
      ]
    },
    {
      "cell_type": "code",
      "execution_count": 16,
      "id": "q_Ol7OdVn5Xc",
      "metadata": {
        "id": "q_Ol7OdVn5Xc"
      },
      "outputs": [
        {
          "name": "stdout",
          "output_type": "stream",
          "text": [
            "torch.Size([2352]) torch.Size([3, 28, 28])\n",
            "torch.Size([192]) torch.Size([48, 2, 2])\n",
            "torch.Size([2352]) torch.Size([3, 28, 28])\n"
          ]
        }
      ],
      "source": [
        "i = torch.randn((3, 28, 28))\n",
        "cov1 = nn.Conv2d(3, 12, 3, stride=2)\n",
        "cov2 = nn.Conv2d(12, 24, 3, stride=2)\n",
        "cov2_5 = nn.Conv2d(24, 48, 3, stride=2)\n",
        "m1 = nn.MaxPool2d(2)\n",
        "m2 = nn.MaxUnpool2d(3)\n",
        "lin1 = nn.Linear(192,192)\n",
        "cov3 = nn.ConvTranspose2d(48,24,3, stride=2)#, output_padding=1)\n",
        "cov4 = nn.ConvTranspose2d(24,12,4, stride=2)#, output_padding=1)\n",
        "cov5 = nn.ConvTranspose2d(12,4,4, stride=2)#, output_padding=1)\n",
        "cov6 = nn.ConvTranspose2d(4,3,3, stride=2)#, output_padding=1)\n",
        "cov7 = nn.Conv2d(3,3,1, stride=2, padding=1)#, output_padding=1)\n",
        "print(i.flatten().shape, i.shape)\n",
        "x = cov1(i)\n",
        "x = cov2(x)\n",
        "x = cov2_5(x)\n",
        "# x = m1(x)\n",
        "print(x.flatten().shape, x.shape)\n",
        "x = lin1(x.flatten())\n",
        "x = x.reshape(48,2,2)\n",
        "x = cov3(x)\n",
        "x = cov4(x)\n",
        "# x = cov4_5(x)\n",
        "x = cov5(x)\n",
        "x = cov6(x)\n",
        "x = cov7(x)\n",
        "# x = m2(x)\n",
        "print(x.flatten().shape, x.shape)\n"
      ]
    },
    {
      "cell_type": "code",
      "execution_count": 17,
      "id": "a19e3635",
      "metadata": {},
      "outputs": [
        {
          "name": "stdout",
          "output_type": "stream",
          "text": [
            "torch.Size([784]) torch.Size([1, 1, 28, 28])\n",
            "torch.Size([1024]) torch.Size([1, 256, 2, 2])\n",
            "torch.Size([1, 1024])\n",
            "torch.Size([784]) torch.Size([1, 1, 28, 28])\n"
          ]
        }
      ],
      "source": [
        "tmp = torch.randn((1, 1, 28, 28))\n",
        "modules = []\n",
        "hidden_dims = [32, 64, 128, 256] # 512\n",
        "# hidden_dims = [28, 56, 112, 224]\n",
        "# hidden_dims = [28, 56, 112]\n",
        "\n",
        "in_channels = 1\n",
        "for h_dim in hidden_dims:\n",
        "    modules.append(\n",
        "        nn.Sequential(\n",
        "            nn.Conv2d(in_channels, out_channels=h_dim,\n",
        "                        kernel_size= 3, stride= 2, padding  = 1),\n",
        "            nn.BatchNorm2d(h_dim),\n",
        "            nn.LeakyReLU())\n",
        "    )\n",
        "    in_channels = h_dim\n",
        "encoder = nn.Sequential(*modules)\n",
        "\n",
        "hidden_dims.reverse()\n",
        "modules = []\n",
        "for i in range(len(hidden_dims) - 1):\n",
        "    modules.append(\n",
        "        nn.Sequential(\n",
        "            nn.ConvTranspose2d(hidden_dims[i],\n",
        "                                hidden_dims[i + 1],\n",
        "                                kernel_size=3,\n",
        "                                stride = 2,\n",
        "                                padding=1,\n",
        "                                output_padding=1),\n",
        "            nn.BatchNorm2d(hidden_dims[i + 1]),\n",
        "            nn.LeakyReLU())\n",
        "    )\n",
        "decoder = nn.Sequential(*modules)\n",
        "\n",
        "final_layer = nn.Sequential(\n",
        "    nn.ConvTranspose2d(hidden_dims[-1],\n",
        "                        hidden_dims[-1],\n",
        "                        kernel_size=2,\n",
        "                        stride=2,\n",
        "                        padding=1),\n",
        "    nn.BatchNorm2d(hidden_dims[-1]),\n",
        "    nn.LeakyReLU(),\n",
        "    nn.Conv2d(hidden_dims[-1], out_channels= 1,\n",
        "                kernel_size= 3),\n",
        "    nn.Tanh())\n",
        "\n",
        "print(tmp.flatten().shape, tmp.shape)\n",
        "x = encoder(tmp)\n",
        "print(x.flatten().shape, x.shape)\n",
        "print(torch.flatten(x, start_dim=1).shape)\n",
        "x = decoder(x)\n",
        "x = final_layer(x)\n",
        "print(x.flatten().shape, x.shape)"
      ]
    },
    {
      "cell_type": "code",
      "execution_count": null,
      "id": "7981155f",
      "metadata": {},
      "outputs": [],
      "source": []
    }
  ],
  "metadata": {
    "accelerator": "GPU",
    "colab": {
      "name": "TGM_investigation.ipynb",
      "provenance": []
    },
    "gpuClass": "standard",
    "interpreter": {
      "hash": "bbd108799289680e2bacb659e20d1105d1bd1ef7d1eaa2d959520560afacfbef"
    },
    "kernelspec": {
      "display_name": "Python 3.8.12 ('cv1')",
      "language": "python",
      "name": "python3"
    },
    "language_info": {
      "codemirror_mode": {
        "name": "ipython",
        "version": 3
      },
      "file_extension": ".py",
      "mimetype": "text/x-python",
      "name": "python",
      "nbconvert_exporter": "python",
      "pygments_lexer": "ipython3",
      "version": "3.8.12"
    },
    "widgets": {
      "application/vnd.jupyter.widget-state+json": {
        "05e0df2d0ab34edeb419b2f33096a647": {
          "model_module": "@jupyter-widgets/base",
          "model_module_version": "1.2.0",
          "model_name": "LayoutModel",
          "state": {
            "_model_module": "@jupyter-widgets/base",
            "_model_module_version": "1.2.0",
            "_model_name": "LayoutModel",
            "_view_count": null,
            "_view_module": "@jupyter-widgets/base",
            "_view_module_version": "1.2.0",
            "_view_name": "LayoutView",
            "align_content": null,
            "align_items": null,
            "align_self": null,
            "border": null,
            "bottom": null,
            "display": null,
            "flex": null,
            "flex_flow": null,
            "grid_area": null,
            "grid_auto_columns": null,
            "grid_auto_flow": null,
            "grid_auto_rows": null,
            "grid_column": null,
            "grid_gap": null,
            "grid_row": null,
            "grid_template_areas": null,
            "grid_template_columns": null,
            "grid_template_rows": null,
            "height": null,
            "justify_content": null,
            "justify_items": null,
            "left": null,
            "margin": null,
            "max_height": null,
            "max_width": null,
            "min_height": null,
            "min_width": null,
            "object_fit": null,
            "object_position": null,
            "order": null,
            "overflow": null,
            "overflow_x": null,
            "overflow_y": null,
            "padding": null,
            "right": null,
            "top": null,
            "visibility": null,
            "width": null
          }
        },
        "0a9a1ed0f44a4b20a2f36dfcec52a081": {
          "model_module": "@jupyter-widgets/controls",
          "model_module_version": "1.5.0",
          "model_name": "HBoxModel",
          "state": {
            "_dom_classes": [],
            "_model_module": "@jupyter-widgets/controls",
            "_model_module_version": "1.5.0",
            "_model_name": "HBoxModel",
            "_view_count": null,
            "_view_module": "@jupyter-widgets/controls",
            "_view_module_version": "1.5.0",
            "_view_name": "HBoxView",
            "box_style": "",
            "children": [
              "IPY_MODEL_5f4333ae036c4307bbdc916fee99558d",
              "IPY_MODEL_a80c45ee84a04b91af6531246641d1a0",
              "IPY_MODEL_c09b3aa3dc314f6db743fc1baacd6a1b"
            ],
            "layout": "IPY_MODEL_2099dfe37aca4a5f9cd7c972131a8cb6"
          }
        },
        "2099dfe37aca4a5f9cd7c972131a8cb6": {
          "model_module": "@jupyter-widgets/base",
          "model_module_version": "1.2.0",
          "model_name": "LayoutModel",
          "state": {
            "_model_module": "@jupyter-widgets/base",
            "_model_module_version": "1.2.0",
            "_model_name": "LayoutModel",
            "_view_count": null,
            "_view_module": "@jupyter-widgets/base",
            "_view_module_version": "1.2.0",
            "_view_name": "LayoutView",
            "align_content": null,
            "align_items": null,
            "align_self": null,
            "border": null,
            "bottom": null,
            "display": null,
            "flex": null,
            "flex_flow": null,
            "grid_area": null,
            "grid_auto_columns": null,
            "grid_auto_flow": null,
            "grid_auto_rows": null,
            "grid_column": null,
            "grid_gap": null,
            "grid_row": null,
            "grid_template_areas": null,
            "grid_template_columns": null,
            "grid_template_rows": null,
            "height": null,
            "justify_content": null,
            "justify_items": null,
            "left": null,
            "margin": null,
            "max_height": null,
            "max_width": null,
            "min_height": null,
            "min_width": null,
            "object_fit": null,
            "object_position": null,
            "order": null,
            "overflow": null,
            "overflow_x": null,
            "overflow_y": null,
            "padding": null,
            "right": null,
            "top": null,
            "visibility": null,
            "width": null
          }
        },
        "3fde6128d3af4a4c91e94dad968cb65e": {
          "model_module": "@jupyter-widgets/controls",
          "model_module_version": "1.5.0",
          "model_name": "DescriptionStyleModel",
          "state": {
            "_model_module": "@jupyter-widgets/controls",
            "_model_module_version": "1.5.0",
            "_model_name": "DescriptionStyleModel",
            "_view_count": null,
            "_view_module": "@jupyter-widgets/base",
            "_view_module_version": "1.2.0",
            "_view_name": "StyleView",
            "description_width": ""
          }
        },
        "5f4333ae036c4307bbdc916fee99558d": {
          "model_module": "@jupyter-widgets/controls",
          "model_module_version": "1.5.0",
          "model_name": "HTMLModel",
          "state": {
            "_dom_classes": [],
            "_model_module": "@jupyter-widgets/controls",
            "_model_module_version": "1.5.0",
            "_model_name": "HTMLModel",
            "_view_count": null,
            "_view_module": "@jupyter-widgets/controls",
            "_view_module_version": "1.5.0",
            "_view_name": "HTMLView",
            "description": "",
            "description_tooltip": null,
            "layout": "IPY_MODEL_65c378ff5fb048df88545ee7248ae488",
            "placeholder": "​",
            "style": "IPY_MODEL_3fde6128d3af4a4c91e94dad968cb65e",
            "value": ""
          }
        },
        "65c378ff5fb048df88545ee7248ae488": {
          "model_module": "@jupyter-widgets/base",
          "model_module_version": "1.2.0",
          "model_name": "LayoutModel",
          "state": {
            "_model_module": "@jupyter-widgets/base",
            "_model_module_version": "1.2.0",
            "_model_name": "LayoutModel",
            "_view_count": null,
            "_view_module": "@jupyter-widgets/base",
            "_view_module_version": "1.2.0",
            "_view_name": "LayoutView",
            "align_content": null,
            "align_items": null,
            "align_self": null,
            "border": null,
            "bottom": null,
            "display": null,
            "flex": null,
            "flex_flow": null,
            "grid_area": null,
            "grid_auto_columns": null,
            "grid_auto_flow": null,
            "grid_auto_rows": null,
            "grid_column": null,
            "grid_gap": null,
            "grid_row": null,
            "grid_template_areas": null,
            "grid_template_columns": null,
            "grid_template_rows": null,
            "height": null,
            "justify_content": null,
            "justify_items": null,
            "left": null,
            "margin": null,
            "max_height": null,
            "max_width": null,
            "min_height": null,
            "min_width": null,
            "object_fit": null,
            "object_position": null,
            "order": null,
            "overflow": null,
            "overflow_x": null,
            "overflow_y": null,
            "padding": null,
            "right": null,
            "top": null,
            "visibility": null,
            "width": null
          }
        },
        "a80c45ee84a04b91af6531246641d1a0": {
          "model_module": "@jupyter-widgets/controls",
          "model_module_version": "1.5.0",
          "model_name": "FloatProgressModel",
          "state": {
            "_dom_classes": [],
            "_model_module": "@jupyter-widgets/controls",
            "_model_module_version": "1.5.0",
            "_model_name": "FloatProgressModel",
            "_view_count": null,
            "_view_module": "@jupyter-widgets/controls",
            "_view_module_version": "1.5.0",
            "_view_name": "ProgressView",
            "bar_style": "success",
            "description": "",
            "description_tooltip": null,
            "layout": "IPY_MODEL_05e0df2d0ab34edeb419b2f33096a647",
            "max": 205615438,
            "min": 0,
            "orientation": "horizontal",
            "style": "IPY_MODEL_efdc7078ded5429c97105a861cef8e5d",
            "value": 205615438
          }
        },
        "a947f33680d44e8b9c900e666c52df30": {
          "model_module": "@jupyter-widgets/controls",
          "model_module_version": "1.5.0",
          "model_name": "DescriptionStyleModel",
          "state": {
            "_model_module": "@jupyter-widgets/controls",
            "_model_module_version": "1.5.0",
            "_model_name": "DescriptionStyleModel",
            "_view_count": null,
            "_view_module": "@jupyter-widgets/base",
            "_view_module_version": "1.2.0",
            "_view_name": "StyleView",
            "description_width": ""
          }
        },
        "c09b3aa3dc314f6db743fc1baacd6a1b": {
          "model_module": "@jupyter-widgets/controls",
          "model_module_version": "1.5.0",
          "model_name": "HTMLModel",
          "state": {
            "_dom_classes": [],
            "_model_module": "@jupyter-widgets/controls",
            "_model_module_version": "1.5.0",
            "_model_name": "HTMLModel",
            "_view_count": null,
            "_view_module": "@jupyter-widgets/controls",
            "_view_module_version": "1.5.0",
            "_view_name": "HTMLView",
            "description": "",
            "description_tooltip": null,
            "layout": "IPY_MODEL_e325ec3383a844dcb2f0a25d1d5fb521",
            "placeholder": "​",
            "style": "IPY_MODEL_a947f33680d44e8b9c900e666c52df30",
            "value": " 205616128/? [00:09&lt;00:00, 25417846.84it/s]"
          }
        },
        "e325ec3383a844dcb2f0a25d1d5fb521": {
          "model_module": "@jupyter-widgets/base",
          "model_module_version": "1.2.0",
          "model_name": "LayoutModel",
          "state": {
            "_model_module": "@jupyter-widgets/base",
            "_model_module_version": "1.2.0",
            "_model_name": "LayoutModel",
            "_view_count": null,
            "_view_module": "@jupyter-widgets/base",
            "_view_module_version": "1.2.0",
            "_view_name": "LayoutView",
            "align_content": null,
            "align_items": null,
            "align_self": null,
            "border": null,
            "bottom": null,
            "display": null,
            "flex": null,
            "flex_flow": null,
            "grid_area": null,
            "grid_auto_columns": null,
            "grid_auto_flow": null,
            "grid_auto_rows": null,
            "grid_column": null,
            "grid_gap": null,
            "grid_row": null,
            "grid_template_areas": null,
            "grid_template_columns": null,
            "grid_template_rows": null,
            "height": null,
            "justify_content": null,
            "justify_items": null,
            "left": null,
            "margin": null,
            "max_height": null,
            "max_width": null,
            "min_height": null,
            "min_width": null,
            "object_fit": null,
            "object_position": null,
            "order": null,
            "overflow": null,
            "overflow_x": null,
            "overflow_y": null,
            "padding": null,
            "right": null,
            "top": null,
            "visibility": null,
            "width": null
          }
        },
        "efdc7078ded5429c97105a861cef8e5d": {
          "model_module": "@jupyter-widgets/controls",
          "model_module_version": "1.5.0",
          "model_name": "ProgressStyleModel",
          "state": {
            "_model_module": "@jupyter-widgets/controls",
            "_model_module_version": "1.5.0",
            "_model_name": "ProgressStyleModel",
            "_view_count": null,
            "_view_module": "@jupyter-widgets/base",
            "_view_module_version": "1.2.0",
            "_view_name": "StyleView",
            "bar_color": null,
            "description_width": ""
          }
        }
      }
    }
  },
  "nbformat": 4,
  "nbformat_minor": 5
}

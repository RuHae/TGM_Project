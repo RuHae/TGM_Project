{
  "cells": [
    {
      "cell_type": "code",
      "execution_count": 1,
      "id": "pVi9sObEmHsQ",
      "metadata": {
        "colab": {
          "base_uri": "https://localhost:8080/"
        },
        "id": "pVi9sObEmHsQ",
        "outputId": "f3cc89f1-a7b2-4b93-8c09-4a200fa17b7f"
      },
      "outputs": [],
      "source": [
        "# !pip install medmnist"
      ]
    },
    {
      "cell_type": "code",
      "execution_count": 2,
      "id": "79b4b6a9",
      "metadata": {
        "id": "79b4b6a9"
      },
      "outputs": [],
      "source": [
        "# https://github.com/MedMNIST/MedMNIST/blob/main/examples/getting_started.ipynb"
      ]
    },
    {
      "cell_type": "code",
      "execution_count": 29,
      "id": "2cf1bb90",
      "metadata": {},
      "outputs": [
        {
          "name": "stdout",
          "output_type": "stream",
          "text": [
            "The autoreload extension is already loaded. To reload it, use:\n",
            "  %reload_ext autoreload\n"
          ]
        }
      ],
      "source": [
        "%load_ext autoreload\n",
        "%autoreload 2 #1"
      ]
    },
    {
      "cell_type": "code",
      "execution_count": 30,
      "id": "d0862334",
      "metadata": {
        "id": "d0862334"
      },
      "outputs": [],
      "source": [
        "import numpy as np\n",
        "import matplotlib.pyplot as plt\n",
        "import medmnist\n",
        "from medmnist import INFO, Evaluator\n",
        "import torch\n",
        "import torch.nn as nn\n",
        "import torch.optim as optim\n",
        "import torch.utils.data as data\n",
        "import torchvision.transforms as transforms\n",
        "import torchvision\n",
        "import torch.nn.functional as F\n",
        "\n",
        "from tqdm import tqdm\n",
        "\n",
        "# from basic_vae import VariationalAutoencoder\n",
        "# %aimport basic_vae"
      ]
    },
    {
      "cell_type": "code",
      "execution_count": 31,
      "id": "821c8978",
      "metadata": {
        "colab": {
          "base_uri": "https://localhost:8080/",
          "height": 101,
          "referenced_widgets": [
            "0a9a1ed0f44a4b20a2f36dfcec52a081",
            "5f4333ae036c4307bbdc916fee99558d",
            "a80c45ee84a04b91af6531246641d1a0",
            "c09b3aa3dc314f6db743fc1baacd6a1b",
            "2099dfe37aca4a5f9cd7c972131a8cb6",
            "65c378ff5fb048df88545ee7248ae488",
            "3fde6128d3af4a4c91e94dad968cb65e",
            "05e0df2d0ab34edeb419b2f33096a647",
            "efdc7078ded5429c97105a861cef8e5d",
            "e325ec3383a844dcb2f0a25d1d5fb521",
            "a947f33680d44e8b9c900e666c52df30"
          ]
        },
        "id": "821c8978",
        "outputId": "921f58c6-b60a-4f68-ddfd-c1c30e61e081"
      },
      "outputs": [
        {
          "name": "stdout",
          "output_type": "stream",
          "text": [
            "Using downloaded and verified file: /home/ruben/.medmnist/pathmnist.npz\n",
            "Using downloaded and verified file: /home/ruben/.medmnist/pathmnist.npz\n",
            "Using downloaded and verified file: /home/ruben/.medmnist/pathmnist.npz\n"
          ]
        }
      ],
      "source": [
        "data_flag = 'pathmnist'\n",
        "# data_flag = 'breastmnist'\n",
        "download = True\n",
        "\n",
        "NUM_EPOCHS = 3\n",
        "BATCH_SIZE = 128\n",
        "lr = 0.0001\n",
        "\n",
        "info = INFO[data_flag]\n",
        "task = info['task']\n",
        "n_channels = info['n_channels']\n",
        "n_classes = len(info['label'])\n",
        "\n",
        "DataClass = getattr(medmnist, info['python_class'])\n",
        "\n",
        "# preprocessing\n",
        "data_transform = transforms.Compose([\n",
        "    transforms.ToTensor(),\n",
        "    transforms.Normalize(mean=[.5], std=[.5])\n",
        "])\n",
        "\n",
        "# load the data\n",
        "train_dataset = DataClass(split='train', transform=data_transform, download=download)\n",
        "test_dataset = DataClass(split='test', transform=data_transform, download=download)\n",
        "\n",
        "pil_dataset = DataClass(split='train', download=download)\n",
        "\n",
        "# encapsulate data into dataloader form\n",
        "train_loader = data.DataLoader(dataset=train_dataset, batch_size=BATCH_SIZE, shuffle=True)\n",
        "train_loader_at_eval = data.DataLoader(dataset=train_dataset, batch_size=2*BATCH_SIZE, shuffle=False)\n",
        "test_loader = data.DataLoader(dataset=test_dataset, batch_size=2*BATCH_SIZE, shuffle=False)\n"
      ]
    },
    {
      "cell_type": "code",
      "execution_count": 32,
      "id": "1f6c6313",
      "metadata": {
        "colab": {
          "base_uri": "https://localhost:8080/"
        },
        "id": "1f6c6313",
        "outputId": "6de9527a-86dd-4de5-8f4d-98009456f6aa"
      },
      "outputs": [
        {
          "data": {
            "text/plain": [
              "(89996, 28, 28, 3)"
            ]
          },
          "execution_count": 32,
          "metadata": {},
          "output_type": "execute_result"
        }
      ],
      "source": [
        "train_dataset.imgs.shape"
      ]
    },
    {
      "cell_type": "code",
      "execution_count": 58,
      "id": "a1f0c491",
      "metadata": {},
      "outputs": [
        {
          "data": {
            "text/plain": [
              "tensor(0.7882)"
            ]
          },
          "execution_count": 58,
          "metadata": {},
          "output_type": "execute_result"
        }
      ],
      "source": [
        "train_dataset[0][0].max()"
      ]
    },
    {
      "cell_type": "code",
      "execution_count": 33,
      "id": "971261a3",
      "metadata": {
        "id": "971261a3"
      },
      "outputs": [],
      "source": [
        "def plot_latent(autoencoder, data, num_batches=100):\n",
        "    for i, (x, y) in enumerate(data):\n",
        "        z = autoencoder.encoder(x.to(device))\n",
        "        z = z.to('cpu').detach().numpy()\n",
        "        plt.scatter(z[:, 0], z[:, 1], c=y, cmap='tab10')\n",
        "        if i > num_batches:\n",
        "            plt.colorbar()\n",
        "            break\n",
        "    plt.show()"
      ]
    },
    {
      "cell_type": "code",
      "execution_count": 79,
      "id": "fb57974e",
      "metadata": {
        "id": "fb57974e"
      },
      "outputs": [],
      "source": [
        "def plot_reconstructed(autoencoder, r0=(-5, 10), r1=(-10, 5), n=12, latent_dim=2):\n",
        "    w = 28\n",
        "    img = np.zeros((n*w, n*w))\n",
        "    for i, y in enumerate(np.linspace(*r1, n)):\n",
        "        for j, x in enumerate(np.linspace(*r0, n)):\n",
        "            z = torch.randint(-10,10, (1,latent_dims), dtype=torch.float, device=device)\n",
        "            # z = torch.Tensor([[x, y]]).to(device)\n",
        "            x_hat = autoencoder.decoder(z)\n",
        "            # print(z)\n",
        "            x_hat = x_hat.reshape(3, 28, 28).moveaxix(0,2).to('cpu').detach().numpy()\n",
        "            img[:,(n-1-i)*w:(n-1-i+1)*w, j*w:(j+1)*w] = x_hat\n",
        "    plt.imshow(img, extent=[*r0, *r1])\n",
        "    plt.show()"
      ]
    },
    {
      "cell_type": "code",
      "execution_count": 153,
      "id": "74741afb",
      "metadata": {
        "colab": {
          "base_uri": "https://localhost:8080/",
          "height": 269
        },
        "id": "74741afb",
        "outputId": "08d12330-7a78-4efc-bad1-dcb64640c5d9"
      },
      "outputs": [
        {
          "name": "stderr",
          "output_type": "stream",
          "text": [
            "100%|██████████| 704/704 [00:20<00:00, 34.90it/s]\n"
          ]
        },
        {
          "name": "stdout",
          "output_type": "stream",
          "text": [
            "Iteration: 0 Loss: 20250.08 Diff: 17013.79\n"
          ]
        },
        {
          "name": "stderr",
          "output_type": "stream",
          "text": [
            "100%|██████████| 704/704 [00:19<00:00, 35.59it/s]\n"
          ]
        },
        {
          "name": "stdout",
          "output_type": "stream",
          "text": [
            "Iteration: 1 Loss: 16571.84 Diff: 30784.32\n"
          ]
        },
        {
          "name": "stderr",
          "output_type": "stream",
          "text": [
            "100%|██████████| 704/704 [00:19<00:00, 36.08it/s]\n"
          ]
        },
        {
          "name": "stdout",
          "output_type": "stream",
          "text": [
            "Iteration: 2 Loss: 15750.24 Diff: 43786.83\n"
          ]
        },
        {
          "name": "stderr",
          "output_type": "stream",
          "text": [
            "100%|██████████| 704/704 [00:19<00:00, 35.59it/s]\n"
          ]
        },
        {
          "name": "stdout",
          "output_type": "stream",
          "text": [
            "Iteration: 3 Loss: 15400.61 Diff: 56478.39\n"
          ]
        },
        {
          "name": "stderr",
          "output_type": "stream",
          "text": [
            "100%|██████████| 704/704 [00:19<00:00, 35.78it/s]\n"
          ]
        },
        {
          "name": "stdout",
          "output_type": "stream",
          "text": [
            "Iteration: 4 Loss: 15150.25 Diff: 68970.86\n"
          ]
        },
        {
          "name": "stderr",
          "output_type": "stream",
          "text": [
            "100%|██████████| 704/704 [00:19<00:00, 35.55it/s]\n"
          ]
        },
        {
          "name": "stdout",
          "output_type": "stream",
          "text": [
            "Iteration: 5 Loss: 14974.96 Diff: 81324.24\n"
          ]
        },
        {
          "name": "stderr",
          "output_type": "stream",
          "text": [
            "100%|██████████| 704/704 [00:19<00:00, 35.98it/s]\n"
          ]
        },
        {
          "name": "stdout",
          "output_type": "stream",
          "text": [
            "Iteration: 6 Loss: 14864.78 Diff: 93586.81\n"
          ]
        },
        {
          "name": "stderr",
          "output_type": "stream",
          "text": [
            "100%|██████████| 704/704 [00:19<00:00, 35.56it/s]\n"
          ]
        },
        {
          "name": "stdout",
          "output_type": "stream",
          "text": [
            "Iteration: 7 Loss: 14781.58 Diff: 105786.73\n"
          ]
        },
        {
          "name": "stderr",
          "output_type": "stream",
          "text": [
            "100%|██████████| 704/704 [00:20<00:00, 34.47it/s]\n"
          ]
        },
        {
          "name": "stdout",
          "output_type": "stream",
          "text": [
            "Iteration: 8 Loss: 14708.2 Diff: 117921.1\n"
          ]
        },
        {
          "name": "stderr",
          "output_type": "stream",
          "text": [
            "100%|██████████| 704/704 [00:21<00:00, 33.23it/s]\n"
          ]
        },
        {
          "name": "stdout",
          "output_type": "stream",
          "text": [
            "Iteration: 9 Loss: 14653.94 Diff: 130004.12\n"
          ]
        },
        {
          "name": "stderr",
          "output_type": "stream",
          "text": [
            "100%|██████████| 704/704 [00:20<00:00, 34.02it/s]\n"
          ]
        },
        {
          "name": "stdout",
          "output_type": "stream",
          "text": [
            "Iteration: 10 Loss: 14620.64 Diff: 142050.89\n"
          ]
        },
        {
          "name": "stderr",
          "output_type": "stream",
          "text": [
            "100%|██████████| 704/704 [00:20<00:00, 34.49it/s]\n"
          ]
        },
        {
          "name": "stdout",
          "output_type": "stream",
          "text": [
            "Iteration: 11 Loss: 14594.09 Diff: 154066.38\n"
          ]
        },
        {
          "name": "stderr",
          "output_type": "stream",
          "text": [
            "100%|██████████| 704/704 [00:20<00:00, 33.91it/s]\n"
          ]
        },
        {
          "name": "stdout",
          "output_type": "stream",
          "text": [
            "Iteration: 12 Loss: 14567.22 Diff: 166050.71\n"
          ]
        },
        {
          "name": "stderr",
          "output_type": "stream",
          "text": [
            "100%|██████████| 704/704 [00:20<00:00, 33.93it/s]\n"
          ]
        },
        {
          "name": "stdout",
          "output_type": "stream",
          "text": [
            "Iteration: 13 Loss: 14544.17 Diff: 178008.66\n"
          ]
        },
        {
          "name": "stderr",
          "output_type": "stream",
          "text": [
            "100%|██████████| 704/704 [00:21<00:00, 33.38it/s]\n"
          ]
        },
        {
          "name": "stdout",
          "output_type": "stream",
          "text": [
            "Iteration: 14 Loss: 14531.63 Diff: 189950.63\n"
          ]
        },
        {
          "name": "stderr",
          "output_type": "stream",
          "text": [
            "100%|██████████| 704/704 [00:20<00:00, 33.75it/s]\n"
          ]
        },
        {
          "name": "stdout",
          "output_type": "stream",
          "text": [
            "Iteration: 15 Loss: 14512.83 Diff: 201871.69\n"
          ]
        },
        {
          "name": "stderr",
          "output_type": "stream",
          "text": [
            "100%|██████████| 704/704 [00:21<00:00, 33.04it/s]\n"
          ]
        },
        {
          "name": "stdout",
          "output_type": "stream",
          "text": [
            "Iteration: 16 Loss: 14501.67 Diff: 213777.37\n"
          ]
        },
        {
          "name": "stderr",
          "output_type": "stream",
          "text": [
            "100%|██████████| 704/704 [00:21<00:00, 33.39it/s]\n"
          ]
        },
        {
          "name": "stdout",
          "output_type": "stream",
          "text": [
            "Iteration: 17 Loss: 14513.87 Diff: 225684.95\n"
          ]
        },
        {
          "name": "stderr",
          "output_type": "stream",
          "text": [
            "100%|██████████| 704/704 [00:20<00:00, 33.79it/s]\n"
          ]
        },
        {
          "name": "stdout",
          "output_type": "stream",
          "text": [
            "Iteration: 18 Loss: 14483.05 Diff: 237566.75\n"
          ]
        },
        {
          "name": "stderr",
          "output_type": "stream",
          "text": [
            "100%|██████████| 704/704 [00:21<00:00, 32.43it/s]\n"
          ]
        },
        {
          "name": "stdout",
          "output_type": "stream",
          "text": [
            "Iteration: 19 Loss: 14471.19 Diff: 249434.05\n"
          ]
        },
        {
          "name": "stderr",
          "output_type": "stream",
          "text": [
            "100%|██████████| 704/704 [00:20<00:00, 33.63it/s]\n"
          ]
        },
        {
          "name": "stdout",
          "output_type": "stream",
          "text": [
            "Iteration: 20 Loss: 14464.17 Diff: 261291.39\n"
          ]
        },
        {
          "name": "stderr",
          "output_type": "stream",
          "text": [
            "100%|██████████| 704/704 [00:21<00:00, 33.37it/s]\n"
          ]
        },
        {
          "name": "stdout",
          "output_type": "stream",
          "text": [
            "Iteration: 21 Loss: 14454.24 Diff: 273143.05\n"
          ]
        },
        {
          "name": "stderr",
          "output_type": "stream",
          "text": [
            "100%|██████████| 704/704 [00:21<00:00, 33.24it/s]\n"
          ]
        },
        {
          "name": "stdout",
          "output_type": "stream",
          "text": [
            "Iteration: 22 Loss: 14448.82 Diff: 284985.12\n"
          ]
        },
        {
          "name": "stderr",
          "output_type": "stream",
          "text": [
            "100%|██████████| 704/704 [00:21<00:00, 32.47it/s]\n"
          ]
        },
        {
          "name": "stdout",
          "output_type": "stream",
          "text": [
            "Iteration: 23 Loss: 14440.34 Diff: 296817.42\n"
          ]
        },
        {
          "name": "stderr",
          "output_type": "stream",
          "text": [
            "100%|██████████| 704/704 [00:21<00:00, 32.32it/s]\n"
          ]
        },
        {
          "name": "stdout",
          "output_type": "stream",
          "text": [
            "Iteration: 24 Loss: 14435.71 Diff: 308641.94\n"
          ]
        },
        {
          "name": "stderr",
          "output_type": "stream",
          "text": [
            "100%|██████████| 704/704 [00:20<00:00, 33.63it/s]\n"
          ]
        },
        {
          "name": "stdout",
          "output_type": "stream",
          "text": [
            "Iteration: 25 Loss: 14429.26 Diff: 320460.76\n"
          ]
        },
        {
          "name": "stderr",
          "output_type": "stream",
          "text": [
            "100%|██████████| 704/704 [00:21<00:00, 33.37it/s]\n"
          ]
        },
        {
          "name": "stdout",
          "output_type": "stream",
          "text": [
            "Iteration: 26 Loss: 14423.82 Diff: 332275.05\n"
          ]
        },
        {
          "name": "stderr",
          "output_type": "stream",
          "text": [
            "100%|██████████| 704/704 [00:21<00:00, 32.35it/s]\n"
          ]
        },
        {
          "name": "stdout",
          "output_type": "stream",
          "text": [
            "Iteration: 27 Loss: 14418.05 Diff: 344081.76\n"
          ]
        },
        {
          "name": "stderr",
          "output_type": "stream",
          "text": [
            "100%|██████████| 704/704 [00:21<00:00, 32.53it/s]\n"
          ]
        },
        {
          "name": "stdout",
          "output_type": "stream",
          "text": [
            "Iteration: 28 Loss: 14414.91 Diff: 355885.28\n"
          ]
        },
        {
          "name": "stderr",
          "output_type": "stream",
          "text": [
            "100%|██████████| 704/704 [00:21<00:00, 33.44it/s]\n"
          ]
        },
        {
          "name": "stdout",
          "output_type": "stream",
          "text": [
            "Iteration: 29 Loss: 14408.48 Diff: 367683.15\n"
          ]
        },
        {
          "name": "stderr",
          "output_type": "stream",
          "text": [
            "100%|██████████| 704/704 [00:20<00:00, 33.67it/s]\n"
          ]
        },
        {
          "name": "stdout",
          "output_type": "stream",
          "text": [
            "Iteration: 30 Loss: 14404.56 Diff: 379475.86\n"
          ]
        },
        {
          "name": "stderr",
          "output_type": "stream",
          "text": [
            "100%|██████████| 704/704 [00:21<00:00, 33.07it/s]\n"
          ]
        },
        {
          "name": "stdout",
          "output_type": "stream",
          "text": [
            "Iteration: 31 Loss: 14401.3 Diff: 391268.19\n"
          ]
        },
        {
          "name": "stderr",
          "output_type": "stream",
          "text": [
            "100%|██████████| 704/704 [00:20<00:00, 33.64it/s]\n"
          ]
        },
        {
          "name": "stdout",
          "output_type": "stream",
          "text": [
            "Iteration: 32 Loss: 14397.76 Diff: 403054.6\n"
          ]
        },
        {
          "name": "stderr",
          "output_type": "stream",
          "text": [
            "100%|██████████| 704/704 [00:20<00:00, 34.15it/s]\n"
          ]
        },
        {
          "name": "stdout",
          "output_type": "stream",
          "text": [
            "Iteration: 33 Loss: 14394.73 Diff: 414836.02\n"
          ]
        },
        {
          "name": "stderr",
          "output_type": "stream",
          "text": [
            "100%|██████████| 704/704 [00:21<00:00, 33.14it/s]\n"
          ]
        },
        {
          "name": "stdout",
          "output_type": "stream",
          "text": [
            "Iteration: 34 Loss: 14388.91 Diff: 426614.34\n"
          ]
        },
        {
          "name": "stderr",
          "output_type": "stream",
          "text": [
            "100%|██████████| 704/704 [00:22<00:00, 31.62it/s]\n"
          ]
        },
        {
          "name": "stdout",
          "output_type": "stream",
          "text": [
            "Iteration: 35 Loss: 14388.27 Diff: 438391.01\n"
          ]
        },
        {
          "name": "stderr",
          "output_type": "stream",
          "text": [
            "100%|██████████| 704/704 [00:20<00:00, 33.76it/s]\n"
          ]
        },
        {
          "name": "stdout",
          "output_type": "stream",
          "text": [
            "Iteration: 36 Loss: 14383.95 Diff: 450162.06\n"
          ]
        },
        {
          "name": "stderr",
          "output_type": "stream",
          "text": [
            "100%|██████████| 704/704 [00:21<00:00, 33.23it/s]\n"
          ]
        },
        {
          "name": "stdout",
          "output_type": "stream",
          "text": [
            "Iteration: 37 Loss: 14382.5 Diff: 461932.28\n"
          ]
        },
        {
          "name": "stderr",
          "output_type": "stream",
          "text": [
            "100%|██████████| 704/704 [00:20<00:00, 33.86it/s]\n"
          ]
        },
        {
          "name": "stdout",
          "output_type": "stream",
          "text": [
            "Iteration: 38 Loss: 14378.27 Diff: 473697.41\n"
          ]
        },
        {
          "name": "stderr",
          "output_type": "stream",
          "text": [
            "100%|██████████| 704/704 [00:21<00:00, 32.74it/s]\n"
          ]
        },
        {
          "name": "stdout",
          "output_type": "stream",
          "text": [
            "Iteration: 39 Loss: 14377.51 Diff: 485462.11\n"
          ]
        },
        {
          "name": "stderr",
          "output_type": "stream",
          "text": [
            "100%|██████████| 704/704 [00:21<00:00, 33.16it/s]\n"
          ]
        },
        {
          "name": "stdout",
          "output_type": "stream",
          "text": [
            "Iteration: 40 Loss: 14371.64 Diff: 497220.91\n"
          ]
        },
        {
          "name": "stderr",
          "output_type": "stream",
          "text": [
            "100%|██████████| 704/704 [00:20<00:00, 33.61it/s]\n"
          ]
        },
        {
          "name": "stdout",
          "output_type": "stream",
          "text": [
            "Iteration: 41 Loss: 14368.53 Diff: 508974.66\n"
          ]
        },
        {
          "name": "stderr",
          "output_type": "stream",
          "text": [
            "100%|██████████| 704/704 [00:21<00:00, 32.61it/s]\n"
          ]
        },
        {
          "name": "stdout",
          "output_type": "stream",
          "text": [
            "Iteration: 42 Loss: 14369.13 Diff: 520725.87\n"
          ]
        },
        {
          "name": "stderr",
          "output_type": "stream",
          "text": [
            "100%|██████████| 704/704 [00:21<00:00, 33.01it/s]\n"
          ]
        },
        {
          "name": "stdout",
          "output_type": "stream",
          "text": [
            "Iteration: 43 Loss: 14364.75 Diff: 532472.92\n"
          ]
        },
        {
          "name": "stderr",
          "output_type": "stream",
          "text": [
            "100%|██████████| 704/704 [00:20<00:00, 33.58it/s]\n"
          ]
        },
        {
          "name": "stdout",
          "output_type": "stream",
          "text": [
            "Iteration: 44 Loss: 14358.38 Diff: 544212.77\n"
          ]
        },
        {
          "name": "stderr",
          "output_type": "stream",
          "text": [
            "100%|██████████| 704/704 [00:21<00:00, 33.41it/s]\n"
          ]
        },
        {
          "name": "stdout",
          "output_type": "stream",
          "text": [
            "Iteration: 45 Loss: 14359.26 Diff: 555952.69\n"
          ]
        },
        {
          "name": "stderr",
          "output_type": "stream",
          "text": [
            "100%|██████████| 704/704 [00:21<00:00, 33.06it/s]\n"
          ]
        },
        {
          "name": "stdout",
          "output_type": "stream",
          "text": [
            "Iteration: 46 Loss: 14359.91 Diff: 567689.06\n"
          ]
        },
        {
          "name": "stderr",
          "output_type": "stream",
          "text": [
            "100%|██████████| 704/704 [00:20<00:00, 33.72it/s]\n"
          ]
        },
        {
          "name": "stdout",
          "output_type": "stream",
          "text": [
            "Iteration: 47 Loss: 14352.16 Diff: 579422.43\n"
          ]
        },
        {
          "name": "stderr",
          "output_type": "stream",
          "text": [
            "100%|██████████| 704/704 [00:20<00:00, 33.59it/s]\n"
          ]
        },
        {
          "name": "stdout",
          "output_type": "stream",
          "text": [
            "Iteration: 48 Loss: 14351.49 Diff: 591151.13\n"
          ]
        },
        {
          "name": "stderr",
          "output_type": "stream",
          "text": [
            "100%|██████████| 704/704 [00:21<00:00, 33.32it/s]\n"
          ]
        },
        {
          "name": "stdout",
          "output_type": "stream",
          "text": [
            "Iteration: 49 Loss: 14347.4 Diff: 602877.35\n"
          ]
        },
        {
          "data": {
            "image/png": "[encoded data removed]",
            "text/plain": [
              "<Figure size 432x288 with 2 Axes>"
            ]
          },
          "metadata": {
            "needs_background": "light"
          },
          "output_type": "display_data"
        }
      ],
      "source": [
        "from basic_vae import VariationalAutoencoder\n",
        "\n",
        "latent_dims = 32 #hyperparameter we can optimze?\n",
        "device = torch.device(\"cuda:0\" if torch.cuda.is_available() else \"cpu\")\n",
        "vae = VariationalAutoencoder(latent_dims, mode=\"beta_vae\").to(device) # GPU\n",
        "\n",
        "vae.train(train_loader, lr=0.0001, epochs=50, device=device)\n",
        "plot_latent(vae, train_loader)"
      ]
    },
    {
      "cell_type": "code",
      "execution_count": 164,
      "id": "KOxqPHmcoDL8",
      "metadata": {
        "colab": {
          "base_uri": "https://localhost:8080/",
          "height": 265
        },
        "id": "KOxqPHmcoDL8",
        "outputId": "51d992e3-b244-447f-baa1-83c943603d9f"
      },
      "outputs": [
        {
          "name": "stdout",
          "output_type": "stream",
          "text": [
            "torch.Size([1, 3, 28, 28])\n"
          ]
        },
        {
          "data": {
            "image/png": "[encoded data removed]",
            "text/plain": [
              "<Figure size 432x288 with 1 Axes>"
            ]
          },
          "metadata": {
            "needs_background": "light"
          },
          "output_type": "display_data"
        }
      ],
      "source": [
        "z = torch.randint(-1,1, (1,latent_dims), dtype=torch.float, device=device)\n",
        "img = vae.decoder.forward(z)\n",
        "print(img.shape)\n",
        "img = F.normalize(img)\n",
        "plt.imshow(img.moveaxis(1, 3).cpu().detach().numpy()[0])\n",
        "plt.show()"
      ]
    },
    {
      "cell_type": "code",
      "execution_count": 169,
      "id": "90f9fee4",
      "metadata": {},
      "outputs": [],
      "source": [
        "test_img = test_dataset[0][0].to(device)"
      ]
    },
    {
      "cell_type": "code",
      "execution_count": 170,
      "id": "5f1b5b38",
      "metadata": {},
      "outputs": [
        {
          "ename": "RuntimeError",
          "evalue": "mat1 and mat2 shapes cannot be multiplied (3x784 and 2352x512)",
          "output_type": "error",
          "traceback": [
            "\u001b[0;31m---------------------------------------------------------------------------\u001b[0m",
            "\u001b[0;31mRuntimeError\u001b[0m                              Traceback (most recent call last)",
            "\u001b[1;32m/home/ruben/Documents/M2/TGM/Project/Code/playbook.ipynb Cell 13'\u001b[0m in \u001b[0;36m<cell line: 1>\u001b[0;34m()\u001b[0m\n\u001b[0;32m----> <a href='vscode-notebook-cell:/home/ruben/Documents/M2/TGM/Project/Code/playbook.ipynb#ch0000020?line=0'>1</a>\u001b[0m vae\u001b[39m.\u001b[39;49mencoder\u001b[39m.\u001b[39;49mforward(test_img)\n",
            "File \u001b[0;32m~/Documents/M2/TGM/Project/Code/basic_vae.py:36\u001b[0m, in \u001b[0;36mEncoder.forward\u001b[0;34m(self, x)\u001b[0m\n\u001b[1;32m     <a href='file:///home/ruben/Documents/M2/TGM/Project/Code/basic_vae.py?line=33'>34</a>\u001b[0m \u001b[39mdef\u001b[39;00m \u001b[39mforward\u001b[39m(\u001b[39mself\u001b[39m, x):\n\u001b[1;32m     <a href='file:///home/ruben/Documents/M2/TGM/Project/Code/basic_vae.py?line=34'>35</a>\u001b[0m     x \u001b[39m=\u001b[39m torch\u001b[39m.\u001b[39mflatten(x, start_dim\u001b[39m=\u001b[39m\u001b[39m1\u001b[39m)\n\u001b[0;32m---> <a href='file:///home/ruben/Documents/M2/TGM/Project/Code/basic_vae.py?line=35'>36</a>\u001b[0m     x \u001b[39m=\u001b[39m F\u001b[39m.\u001b[39mrelu(\u001b[39mself\u001b[39;49m\u001b[39m.\u001b[39;49mlinear1(x))\n\u001b[1;32m     <a href='file:///home/ruben/Documents/M2/TGM/Project/Code/basic_vae.py?line=37'>38</a>\u001b[0m     \u001b[39mif\u001b[39;00m \u001b[39mself\u001b[39m\u001b[39m.\u001b[39mmode \u001b[39m==\u001b[39m \u001b[39m\"\u001b[39m\u001b[39mbeta_vae\u001b[39m\u001b[39m\"\u001b[39m:\n\u001b[1;32m     <a href='file:///home/ruben/Documents/M2/TGM/Project/Code/basic_vae.py?line=38'>39</a>\u001b[0m         z \u001b[39m=\u001b[39m \u001b[39mself\u001b[39m\u001b[39m.\u001b[39msampling_beta(x)\n",
            "File \u001b[0;32m~/anaconda3/envs/cv1/lib/python3.8/site-packages/torch/nn/modules/module.py:1110\u001b[0m, in \u001b[0;36mModule._call_impl\u001b[0;34m(self, *input, **kwargs)\u001b[0m\n\u001b[1;32m   <a href='file:///home/ruben/anaconda3/envs/cv1/lib/python3.8/site-packages/torch/nn/modules/module.py?line=1105'>1106</a>\u001b[0m \u001b[39m# If we don't have any hooks, we want to skip the rest of the logic in\u001b[39;00m\n\u001b[1;32m   <a href='file:///home/ruben/anaconda3/envs/cv1/lib/python3.8/site-packages/torch/nn/modules/module.py?line=1106'>1107</a>\u001b[0m \u001b[39m# this function, and just call forward.\u001b[39;00m\n\u001b[1;32m   <a href='file:///home/ruben/anaconda3/envs/cv1/lib/python3.8/site-packages/torch/nn/modules/module.py?line=1107'>1108</a>\u001b[0m \u001b[39mif\u001b[39;00m \u001b[39mnot\u001b[39;00m (\u001b[39mself\u001b[39m\u001b[39m.\u001b[39m_backward_hooks \u001b[39mor\u001b[39;00m \u001b[39mself\u001b[39m\u001b[39m.\u001b[39m_forward_hooks \u001b[39mor\u001b[39;00m \u001b[39mself\u001b[39m\u001b[39m.\u001b[39m_forward_pre_hooks \u001b[39mor\u001b[39;00m _global_backward_hooks\n\u001b[1;32m   <a href='file:///home/ruben/anaconda3/envs/cv1/lib/python3.8/site-packages/torch/nn/modules/module.py?line=1108'>1109</a>\u001b[0m         \u001b[39mor\u001b[39;00m _global_forward_hooks \u001b[39mor\u001b[39;00m _global_forward_pre_hooks):\n\u001b[0;32m-> <a href='file:///home/ruben/anaconda3/envs/cv1/lib/python3.8/site-packages/torch/nn/modules/module.py?line=1109'>1110</a>\u001b[0m     \u001b[39mreturn\u001b[39;00m forward_call(\u001b[39m*\u001b[39;49m\u001b[39minput\u001b[39;49m, \u001b[39m*\u001b[39;49m\u001b[39m*\u001b[39;49mkwargs)\n\u001b[1;32m   <a href='file:///home/ruben/anaconda3/envs/cv1/lib/python3.8/site-packages/torch/nn/modules/module.py?line=1110'>1111</a>\u001b[0m \u001b[39m# Do not call functions when jit is used\u001b[39;00m\n\u001b[1;32m   <a href='file:///home/ruben/anaconda3/envs/cv1/lib/python3.8/site-packages/torch/nn/modules/module.py?line=1111'>1112</a>\u001b[0m full_backward_hooks, non_full_backward_hooks \u001b[39m=\u001b[39m [], []\n",
            "File \u001b[0;32m~/anaconda3/envs/cv1/lib/python3.8/site-packages/torch/nn/modules/linear.py:103\u001b[0m, in \u001b[0;36mLinear.forward\u001b[0;34m(self, input)\u001b[0m\n\u001b[1;32m    <a href='file:///home/ruben/anaconda3/envs/cv1/lib/python3.8/site-packages/torch/nn/modules/linear.py?line=101'>102</a>\u001b[0m \u001b[39mdef\u001b[39;00m \u001b[39mforward\u001b[39m(\u001b[39mself\u001b[39m, \u001b[39minput\u001b[39m: Tensor) \u001b[39m-\u001b[39m\u001b[39m>\u001b[39m Tensor:\n\u001b[0;32m--> <a href='file:///home/ruben/anaconda3/envs/cv1/lib/python3.8/site-packages/torch/nn/modules/linear.py?line=102'>103</a>\u001b[0m     \u001b[39mreturn\u001b[39;00m F\u001b[39m.\u001b[39;49mlinear(\u001b[39minput\u001b[39;49m, \u001b[39mself\u001b[39;49m\u001b[39m.\u001b[39;49mweight, \u001b[39mself\u001b[39;49m\u001b[39m.\u001b[39;49mbias)\n",
            "\u001b[0;31mRuntimeError\u001b[0m: mat1 and mat2 shapes cannot be multiplied (3x784 and 2352x512)"
          ]
        }
      ],
      "source": [
        "vae.encoder.forward(test_img)"
      ]
    },
    {
      "cell_type": "code",
      "execution_count": 157,
      "id": "c8137c5b",
      "metadata": {},
      "outputs": [
        {
          "name": "stderr",
          "output_type": "stream",
          "text": [
            "Clipping input data to the valid range for imshow with RGB data ([0..1] for floats or [0..255] for integers).\n"
          ]
        },
        {
          "data": {
            "text/plain": [
              "[]"
            ]
          },
          "execution_count": 157,
          "metadata": {},
          "output_type": "execute_result"
        },
        {
          "data": {
            "image/png": "[encoded data removed]",
            "text/plain": [
              "<Figure size 432x288 with 1 Axes>"
            ]
          },
          "metadata": {
            "needs_background": "light"
          },
          "output_type": "display_data"
        }
      ],
      "source": [
        "plt.imshow(test_img[0].moveaxis(0, 2).cpu().detach().numpy())\n",
        "plt.plot()"
      ]
    },
    {
      "cell_type": "code",
      "execution_count": 156,
      "id": "aa5a14e8",
      "metadata": {
        "colab": {
          "base_uri": "https://localhost:8080/",
          "height": 1000
        },
        "id": "aa5a14e8",
        "outputId": "9e2ec3d3-5ce4-4a67-df74-18b1969f3356"
      },
      "outputs": [
        {
          "ename": "AttributeError",
          "evalue": "'Tensor' object has no attribute 'moveaxix'",
          "output_type": "error",
          "traceback": [
            "\u001b[0;31m---------------------------------------------------------------------------\u001b[0m",
            "\u001b[0;31mAttributeError\u001b[0m                            Traceback (most recent call last)",
            "\u001b[1;32m/home/ruben/Documents/M2/TGM/Project/Code/playbook.ipynb Cell 14'\u001b[0m in \u001b[0;36m<cell line: 1>\u001b[0;34m()\u001b[0m\n\u001b[0;32m----> <a href='vscode-notebook-cell:/home/ruben/Documents/M2/TGM/Project/Code/playbook.ipynb#ch0000011?line=0'>1</a>\u001b[0m plot_reconstructed(vae, r0\u001b[39m=\u001b[39;49m(\u001b[39m-\u001b[39;49m\u001b[39m10\u001b[39;49m, \u001b[39m10\u001b[39;49m), r1\u001b[39m=\u001b[39;49m(\u001b[39m-\u001b[39;49m\u001b[39m10\u001b[39;49m, \u001b[39m10\u001b[39;49m), latent_dim\u001b[39m=\u001b[39;49mlatent_dims)\n",
            "\u001b[1;32m/home/ruben/Documents/M2/TGM/Project/Code/playbook.ipynb Cell 9'\u001b[0m in \u001b[0;36mplot_reconstructed\u001b[0;34m(autoencoder, r0, r1, n, latent_dim)\u001b[0m\n\u001b[1;32m      <a href='vscode-notebook-cell:/home/ruben/Documents/M2/TGM/Project/Code/playbook.ipynb#ch0000007?line=7'>8</a>\u001b[0m         x_hat \u001b[39m=\u001b[39m autoencoder\u001b[39m.\u001b[39mdecoder(z)\n\u001b[1;32m      <a href='vscode-notebook-cell:/home/ruben/Documents/M2/TGM/Project/Code/playbook.ipynb#ch0000007?line=8'>9</a>\u001b[0m         \u001b[39m# print(z)\u001b[39;00m\n\u001b[0;32m---> <a href='vscode-notebook-cell:/home/ruben/Documents/M2/TGM/Project/Code/playbook.ipynb#ch0000007?line=9'>10</a>\u001b[0m         x_hat \u001b[39m=\u001b[39m x_hat\u001b[39m.\u001b[39;49mreshape(\u001b[39m3\u001b[39;49m, \u001b[39m28\u001b[39;49m, \u001b[39m28\u001b[39;49m)\u001b[39m.\u001b[39;49mmoveaxix(\u001b[39m0\u001b[39m,\u001b[39m2\u001b[39m)\u001b[39m.\u001b[39mto(\u001b[39m'\u001b[39m\u001b[39mcpu\u001b[39m\u001b[39m'\u001b[39m)\u001b[39m.\u001b[39mdetach()\u001b[39m.\u001b[39mnumpy()\n\u001b[1;32m     <a href='vscode-notebook-cell:/home/ruben/Documents/M2/TGM/Project/Code/playbook.ipynb#ch0000007?line=10'>11</a>\u001b[0m         img[:,(n\u001b[39m-\u001b[39m\u001b[39m1\u001b[39m\u001b[39m-\u001b[39mi)\u001b[39m*\u001b[39mw:(n\u001b[39m-\u001b[39m\u001b[39m1\u001b[39m\u001b[39m-\u001b[39mi\u001b[39m+\u001b[39m\u001b[39m1\u001b[39m)\u001b[39m*\u001b[39mw, j\u001b[39m*\u001b[39mw:(j\u001b[39m+\u001b[39m\u001b[39m1\u001b[39m)\u001b[39m*\u001b[39mw] \u001b[39m=\u001b[39m x_hat\n\u001b[1;32m     <a href='vscode-notebook-cell:/home/ruben/Documents/M2/TGM/Project/Code/playbook.ipynb#ch0000007?line=11'>12</a>\u001b[0m plt\u001b[39m.\u001b[39mimshow(img, extent\u001b[39m=\u001b[39m[\u001b[39m*\u001b[39mr0, \u001b[39m*\u001b[39mr1])\n",
            "\u001b[0;31mAttributeError\u001b[0m: 'Tensor' object has no attribute 'moveaxix'"
          ]
        }
      ],
      "source": [
        "plot_reconstructed(vae, r0=(-10, 10), r1=(-10, 10), latent_dim=latent_dims)"
      ]
    },
    {
      "cell_type": "markdown",
      "id": "y_YZzmaEoPQH",
      "metadata": {
        "id": "y_YZzmaEoPQH"
      },
      "source": [
        "# New Section"
      ]
    },
    {
      "cell_type": "code",
      "execution_count": 185,
      "id": "q_Ol7OdVn5Xc",
      "metadata": {
        "id": "q_Ol7OdVn5Xc"
      },
      "outputs": [
        {
          "data": {
            "text/plain": [
              "torch.Size([1728])"
            ]
          },
          "execution_count": 185,
          "metadata": {},
          "output_type": "execute_result"
        }
      ],
      "source": [
        "i = torch.randn((3, 28, 28))\n",
        "cov1 = nn.Conv2d(3, 6, 3)\n",
        "cov2 = nn.Conv2d(6, 3, 3)\n",
        "cov3 = nn.ConvTranspose2d(3,6,3)\n",
        "cov4 = nn.ConvTranspose2d(6,3,3)\n",
        "x = cov1(i)\n",
        "x = cov2(x)\n",
        "print(x.flatten().shape)\n",
        "x = cov3(x)\n",
        "x = cov4(x)\n",
        "print(x.flatten().shape)\n"
      ]
    },
    {
      "cell_type": "code",
      "execution_count": null,
      "id": "a19e3635",
      "metadata": {},
      "outputs": [],
      "source": []
    }
  ],
  "metadata": {
    "accelerator": "GPU",
    "colab": {
      "name": "TGM_investigation.ipynb",
      "provenance": []
    },
    "gpuClass": "standard",
    "interpreter": {
      "hash": "bbd108799289680e2bacb659e20d1105d1bd1ef7d1eaa2d959520560afacfbef"
    },
    "kernelspec": {
      "display_name": "Python 3.8.12 ('cv1')",
      "language": "python",
      "name": "python3"
    },
    "language_info": {
      "codemirror_mode": {
        "name": "ipython",
        "version": 3
      },
      "file_extension": ".py",
      "mimetype": "text/x-python",
      "name": "python",
      "nbconvert_exporter": "python",
      "pygments_lexer": "ipython3",
      "version": "3.8.12"
    },
    "widgets": {
      "application/vnd.jupyter.widget-state+json": {
        "05e0df2d0ab34edeb419b2f33096a647": {
          "model_module": "@jupyter-widgets/base",
          "model_module_version": "1.2.0",
          "model_name": "LayoutModel",
          "state": {
            "_model_module": "@jupyter-widgets/base",
            "_model_module_version": "1.2.0",
            "_model_name": "LayoutModel",
            "_view_count": null,
            "_view_module": "@jupyter-widgets/base",
            "_view_module_version": "1.2.0",
            "_view_name": "LayoutView",
            "align_content": null,
            "align_items": null,
            "align_self": null,
            "border": null,
            "bottom": null,
            "display": null,
            "flex": null,
            "flex_flow": null,
            "grid_area": null,
            "grid_auto_columns": null,
            "grid_auto_flow": null,
            "grid_auto_rows": null,
            "grid_column": null,
            "grid_gap": null,
            "grid_row": null,
            "grid_template_areas": null,
            "grid_template_columns": null,
            "grid_template_rows": null,
            "height": null,
            "justify_content": null,
            "justify_items": null,
            "left": null,
            "margin": null,
            "max_height": null,
            "max_width": null,
            "min_height": null,
            "min_width": null,
            "object_fit": null,
            "object_position": null,
            "order": null,
            "overflow": null,
            "overflow_x": null,
            "overflow_y": null,
            "padding": null,
            "right": null,
            "top": null,
            "visibility": null,
            "width": null
          }
        },
        "0a9a1ed0f44a4b20a2f36dfcec52a081": {
          "model_module": "@jupyter-widgets/controls",
          "model_module_version": "1.5.0",
          "model_name": "HBoxModel",
          "state": {
            "_dom_classes": [],
            "_model_module": "@jupyter-widgets/controls",
            "_model_module_version": "1.5.0",
            "_model_name": "HBoxModel",
            "_view_count": null,
            "_view_module": "@jupyter-widgets/controls",
            "_view_module_version": "1.5.0",
            "_view_name": "HBoxView",
            "box_style": "",
            "children": [
              "IPY_MODEL_5f4333ae036c4307bbdc916fee99558d",
              "IPY_MODEL_a80c45ee84a04b91af6531246641d1a0",
              "IPY_MODEL_c09b3aa3dc314f6db743fc1baacd6a1b"
            ],
            "layout": "IPY_MODEL_2099dfe37aca4a5f9cd7c972131a8cb6"
          }
        },
        "2099dfe37aca4a5f9cd7c972131a8cb6": {
          "model_module": "@jupyter-widgets/base",
          "model_module_version": "1.2.0",
          "model_name": "LayoutModel",
          "state": {
            "_model_module": "@jupyter-widgets/base",
            "_model_module_version": "1.2.0",
            "_model_name": "LayoutModel",
            "_view_count": null,
            "_view_module": "@jupyter-widgets/base",
            "_view_module_version": "1.2.0",
            "_view_name": "LayoutView",
            "align_content": null,
            "align_items": null,
            "align_self": null,
            "border": null,
            "bottom": null,
            "display": null,
            "flex": null,
            "flex_flow": null,
            "grid_area": null,
            "grid_auto_columns": null,
            "grid_auto_flow": null,
            "grid_auto_rows": null,
            "grid_column": null,
            "grid_gap": null,
            "grid_row": null,
            "grid_template_areas": null,
            "grid_template_columns": null,
            "grid_template_rows": null,
            "height": null,
            "justify_content": null,
            "justify_items": null,
            "left": null,
            "margin": null,
            "max_height": null,
            "max_width": null,
            "min_height": null,
            "min_width": null,
            "object_fit": null,
            "object_position": null,
            "order": null,
            "overflow": null,
            "overflow_x": null,
            "overflow_y": null,
            "padding": null,
            "right": null,
            "top": null,
            "visibility": null,
            "width": null
          }
        },
        "3fde6128d3af4a4c91e94dad968cb65e": {
          "model_module": "@jupyter-widgets/controls",
          "model_module_version": "1.5.0",
          "model_name": "DescriptionStyleModel",
          "state": {
            "_model_module": "@jupyter-widgets/controls",
            "_model_module_version": "1.5.0",
            "_model_name": "DescriptionStyleModel",
            "_view_count": null,
            "_view_module": "@jupyter-widgets/base",
            "_view_module_version": "1.2.0",
            "_view_name": "StyleView",
            "description_width": ""
          }
        },
        "5f4333ae036c4307bbdc916fee99558d": {
          "model_module": "@jupyter-widgets/controls",
          "model_module_version": "1.5.0",
          "model_name": "HTMLModel",
          "state": {
            "_dom_classes": [],
            "_model_module": "@jupyter-widgets/controls",
            "_model_module_version": "1.5.0",
            "_model_name": "HTMLModel",
            "_view_count": null,
            "_view_module": "@jupyter-widgets/controls",
            "_view_module_version": "1.5.0",
            "_view_name": "HTMLView",
            "description": "",
            "description_tooltip": null,
            "layout": "IPY_MODEL_65c378ff5fb048df88545ee7248ae488",
            "placeholder": "​",
            "style": "IPY_MODEL_3fde6128d3af4a4c91e94dad968cb65e",
            "value": ""
          }
        },
        "65c378ff5fb048df88545ee7248ae488": {
          "model_module": "@jupyter-widgets/base",
          "model_module_version": "1.2.0",
          "model_name": "LayoutModel",
          "state": {
            "_model_module": "@jupyter-widgets/base",
            "_model_module_version": "1.2.0",
            "_model_name": "LayoutModel",
            "_view_count": null,
            "_view_module": "@jupyter-widgets/base",
            "_view_module_version": "1.2.0",
            "_view_name": "LayoutView",
            "align_content": null,
            "align_items": null,
            "align_self": null,
            "border": null,
            "bottom": null,
            "display": null,
            "flex": null,
            "flex_flow": null,
            "grid_area": null,
            "grid_auto_columns": null,
            "grid_auto_flow": null,
            "grid_auto_rows": null,
            "grid_column": null,
            "grid_gap": null,
            "grid_row": null,
            "grid_template_areas": null,
            "grid_template_columns": null,
            "grid_template_rows": null,
            "height": null,
            "justify_content": null,
            "justify_items": null,
            "left": null,
            "margin": null,
            "max_height": null,
            "max_width": null,
            "min_height": null,
            "min_width": null,
            "object_fit": null,
            "object_position": null,
            "order": null,
            "overflow": null,
            "overflow_x": null,
            "overflow_y": null,
            "padding": null,
            "right": null,
            "top": null,
            "visibility": null,
            "width": null
          }
        },
        "a80c45ee84a04b91af6531246641d1a0": {
          "model_module": "@jupyter-widgets/controls",
          "model_module_version": "1.5.0",
          "model_name": "FloatProgressModel",
          "state": {
            "_dom_classes": [],
            "_model_module": "@jupyter-widgets/controls",
            "_model_module_version": "1.5.0",
            "_model_name": "FloatProgressModel",
            "_view_count": null,
            "_view_module": "@jupyter-widgets/controls",
            "_view_module_version": "1.5.0",
            "_view_name": "ProgressView",
            "bar_style": "success",
            "description": "",
            "description_tooltip": null,
            "layout": "IPY_MODEL_05e0df2d0ab34edeb419b2f33096a647",
            "max": 205615438,
            "min": 0,
            "orientation": "horizontal",
            "style": "IPY_MODEL_efdc7078ded5429c97105a861cef8e5d",
            "value": 205615438
          }
        },
        "a947f33680d44e8b9c900e666c52df30": {
          "model_module": "@jupyter-widgets/controls",
          "model_module_version": "1.5.0",
          "model_name": "DescriptionStyleModel",
          "state": {
            "_model_module": "@jupyter-widgets/controls",
            "_model_module_version": "1.5.0",
            "_model_name": "DescriptionStyleModel",
            "_view_count": null,
            "_view_module": "@jupyter-widgets/base",
            "_view_module_version": "1.2.0",
            "_view_name": "StyleView",
            "description_width": ""
          }
        },
        "c09b3aa3dc314f6db743fc1baacd6a1b": {
          "model_module": "@jupyter-widgets/controls",
          "model_module_version": "1.5.0",
          "model_name": "HTMLModel",
          "state": {
            "_dom_classes": [],
            "_model_module": "@jupyter-widgets/controls",
            "_model_module_version": "1.5.0",
            "_model_name": "HTMLModel",
            "_view_count": null,
            "_view_module": "@jupyter-widgets/controls",
            "_view_module_version": "1.5.0",
            "_view_name": "HTMLView",
            "description": "",
            "description_tooltip": null,
            "layout": "IPY_MODEL_e325ec3383a844dcb2f0a25d1d5fb521",
            "placeholder": "​",
            "style": "IPY_MODEL_a947f33680d44e8b9c900e666c52df30",
            "value": " 205616128/? [00:09&lt;00:00, 25417846.84it/s]"
          }
        },
        "e325ec3383a844dcb2f0a25d1d5fb521": {
          "model_module": "@jupyter-widgets/base",
          "model_module_version": "1.2.0",
          "model_name": "LayoutModel",
          "state": {
            "_model_module": "@jupyter-widgets/base",
            "_model_module_version": "1.2.0",
            "_model_name": "LayoutModel",
            "_view_count": null,
            "_view_module": "@jupyter-widgets/base",
            "_view_module_version": "1.2.0",
            "_view_name": "LayoutView",
            "align_content": null,
            "align_items": null,
            "align_self": null,
            "border": null,
            "bottom": null,
            "display": null,
            "flex": null,
            "flex_flow": null,
            "grid_area": null,
            "grid_auto_columns": null,
            "grid_auto_flow": null,
            "grid_auto_rows": null,
            "grid_column": null,
            "grid_gap": null,
            "grid_row": null,
            "grid_template_areas": null,
            "grid_template_columns": null,
            "grid_template_rows": null,
            "height": null,
            "justify_content": null,
            "justify_items": null,
            "left": null,
            "margin": null,
            "max_height": null,
            "max_width": null,
            "min_height": null,
            "min_width": null,
            "object_fit": null,
            "object_position": null,
            "order": null,
            "overflow": null,
            "overflow_x": null,
            "overflow_y": null,
            "padding": null,
            "right": null,
            "top": null,
            "visibility": null,
            "width": null
          }
        },
        "efdc7078ded5429c97105a861cef8e5d": {
          "model_module": "@jupyter-widgets/controls",
          "model_module_version": "1.5.0",
          "model_name": "ProgressStyleModel",
          "state": {
            "_model_module": "@jupyter-widgets/controls",
            "_model_module_version": "1.5.0",
            "_model_name": "ProgressStyleModel",
            "_view_count": null,
            "_view_module": "@jupyter-widgets/base",
            "_view_module_version": "1.2.0",
            "_view_name": "StyleView",
            "bar_color": null,
            "description_width": ""
          }
        }
      }
    }
  },
  "nbformat": 4,
  "nbformat_minor": 5
}

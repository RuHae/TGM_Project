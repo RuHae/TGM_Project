{
  "cells": [
    {
      "cell_type": "markdown",
      "metadata": {
        "id": "view-in-github",
        "colab_type": "text"
      },
      "source": [
        "<a href=\"https://colab.research.google.com/github/RuHae/TGM_Project/blob/main/Code/C_VAE.ipynb\" target=\"_parent\"><img src=\"https://colab.research.google.com/assets/colab-badge.svg\" alt=\"Open In Colab\"/></a>"
      ]
    },
    {
      "cell_type": "markdown",
      "metadata": {
        "id": "CWH2dsq6jTyH"
      },
      "source": [
        "**TODO**\n",
        "\n",
        "\n",
        "* plot_reconstructed allows classes\n",
        "* remove hardcoded dimensions\n",
        "* refine architecture e.g. use RELU, more layer\n",
        "\n"
      ]
    },
    {
      "cell_type": "code",
      "execution_count": 1,
      "metadata": {
        "colab": {
          "base_uri": "https://localhost:8080/"
        },
        "id": "kmJNdVX4MEkb",
        "outputId": "cf3cd759-07a2-46e7-8b49-feac2137d0df"
      },
      "outputs": [
        {
          "output_type": "stream",
          "name": "stdout",
          "text": [
            "Looking in indexes: https://pypi.org/simple, https://us-python.pkg.dev/colab-wheels/public/simple/\n",
            "Collecting medmnist\n",
            "  Downloading medmnist-2.1.0-py3-none-any.whl (21 kB)\n",
            "Requirement already satisfied: Pillow in /usr/local/lib/python3.7/dist-packages (from medmnist) (7.1.2)\n",
            "Requirement already satisfied: torchvision in /usr/local/lib/python3.7/dist-packages (from medmnist) (0.12.0+cu113)\n",
            "Requirement already satisfied: numpy in /usr/local/lib/python3.7/dist-packages (from medmnist) (1.21.6)\n",
            "Requirement already satisfied: scikit-learn in /usr/local/lib/python3.7/dist-packages (from medmnist) (1.0.2)\n",
            "Requirement already satisfied: scikit-image in /usr/local/lib/python3.7/dist-packages (from medmnist) (0.18.3)\n",
            "Requirement already satisfied: pandas in /usr/local/lib/python3.7/dist-packages (from medmnist) (1.3.5)\n",
            "Requirement already satisfied: torch in /usr/local/lib/python3.7/dist-packages (from medmnist) (1.11.0+cu113)\n",
            "Requirement already satisfied: tqdm in /usr/local/lib/python3.7/dist-packages (from medmnist) (4.64.0)\n",
            "Collecting fire\n",
            "  Downloading fire-0.4.0.tar.gz (87 kB)\n",
            "\u001b[K     |████████████████████████████████| 87 kB 7.0 MB/s \n",
            "\u001b[?25hRequirement already satisfied: six in /usr/local/lib/python3.7/dist-packages (from fire->medmnist) (1.15.0)\n",
            "Requirement already satisfied: termcolor in /usr/local/lib/python3.7/dist-packages (from fire->medmnist) (1.1.0)\n",
            "Requirement already satisfied: python-dateutil>=2.7.3 in /usr/local/lib/python3.7/dist-packages (from pandas->medmnist) (2.8.2)\n",
            "Requirement already satisfied: pytz>=2017.3 in /usr/local/lib/python3.7/dist-packages (from pandas->medmnist) (2022.1)\n",
            "Requirement already satisfied: imageio>=2.3.0 in /usr/local/lib/python3.7/dist-packages (from scikit-image->medmnist) (2.4.1)\n",
            "Requirement already satisfied: matplotlib!=3.0.0,>=2.0.0 in /usr/local/lib/python3.7/dist-packages (from scikit-image->medmnist) (3.2.2)\n",
            "Requirement already satisfied: PyWavelets>=1.1.1 in /usr/local/lib/python3.7/dist-packages (from scikit-image->medmnist) (1.3.0)\n",
            "Requirement already satisfied: tifffile>=2019.7.26 in /usr/local/lib/python3.7/dist-packages (from scikit-image->medmnist) (2021.11.2)\n",
            "Requirement already satisfied: scipy>=1.0.1 in /usr/local/lib/python3.7/dist-packages (from scikit-image->medmnist) (1.4.1)\n",
            "Requirement already satisfied: networkx>=2.0 in /usr/local/lib/python3.7/dist-packages (from scikit-image->medmnist) (2.6.3)\n",
            "Requirement already satisfied: pyparsing!=2.0.4,!=2.1.2,!=2.1.6,>=2.0.1 in /usr/local/lib/python3.7/dist-packages (from matplotlib!=3.0.0,>=2.0.0->scikit-image->medmnist) (3.0.9)\n",
            "Requirement already satisfied: kiwisolver>=1.0.1 in /usr/local/lib/python3.7/dist-packages (from matplotlib!=3.0.0,>=2.0.0->scikit-image->medmnist) (1.4.3)\n",
            "Requirement already satisfied: cycler>=0.10 in /usr/local/lib/python3.7/dist-packages (from matplotlib!=3.0.0,>=2.0.0->scikit-image->medmnist) (0.11.0)\n",
            "Requirement already satisfied: typing-extensions in /usr/local/lib/python3.7/dist-packages (from kiwisolver>=1.0.1->matplotlib!=3.0.0,>=2.0.0->scikit-image->medmnist) (4.1.1)\n",
            "Requirement already satisfied: threadpoolctl>=2.0.0 in /usr/local/lib/python3.7/dist-packages (from scikit-learn->medmnist) (3.1.0)\n",
            "Requirement already satisfied: joblib>=0.11 in /usr/local/lib/python3.7/dist-packages (from scikit-learn->medmnist) (1.1.0)\n",
            "Requirement already satisfied: requests in /usr/local/lib/python3.7/dist-packages (from torchvision->medmnist) (2.23.0)\n",
            "Requirement already satisfied: idna<3,>=2.5 in /usr/local/lib/python3.7/dist-packages (from requests->torchvision->medmnist) (2.10)\n",
            "Requirement already satisfied: urllib3!=1.25.0,!=1.25.1,<1.26,>=1.21.1 in /usr/local/lib/python3.7/dist-packages (from requests->torchvision->medmnist) (1.24.3)\n",
            "Requirement already satisfied: chardet<4,>=3.0.2 in /usr/local/lib/python3.7/dist-packages (from requests->torchvision->medmnist) (3.0.4)\n",
            "Requirement already satisfied: certifi>=2017.4.17 in /usr/local/lib/python3.7/dist-packages (from requests->torchvision->medmnist) (2022.6.15)\n",
            "Building wheels for collected packages: fire\n",
            "  Building wheel for fire (setup.py) ... \u001b[?25l\u001b[?25hdone\n",
            "  Created wheel for fire: filename=fire-0.4.0-py2.py3-none-any.whl size=115942 sha256=95340c20194844c9c56dd485f0a3362e904bcba2f9d31953a5006c8721818a19\n",
            "  Stored in directory: /root/.cache/pip/wheels/8a/67/fb/2e8a12fa16661b9d5af1f654bd199366799740a85c64981226\n",
            "Successfully built fire\n",
            "Installing collected packages: fire, medmnist\n",
            "Successfully installed fire-0.4.0 medmnist-2.1.0\n"
          ]
        }
      ],
      "source": [
        "! pip install medmnist"
      ]
    },
    {
      "cell_type": "code",
      "execution_count": null,
      "metadata": {
        "colab": {
          "base_uri": "https://localhost:8080/"
        },
        "id": "VfKUDR6bq4Y8",
        "outputId": "c6f8e6d3-6915-4974-a3a4-38e10e77b422"
      },
      "outputs": [
        {
          "name": "stdout",
          "output_type": "stream",
          "text": [
            "nvcc: NVIDIA (R) Cuda compiler driver\n",
            "Copyright (c) 2005-2020 NVIDIA Corporation\n",
            "Built on Mon_Oct_12_20:09:46_PDT_2020\n",
            "Cuda compilation tools, release 11.1, V11.1.105\n",
            "Build cuda_11.1.TC455_06.29190527_0\n",
            "Looking in indexes: https://pypi.org/simple, https://us-python.pkg.dev/colab-wheels/public/simple/\n",
            "Looking in links: https://download.pytorch.org/whl/torch_stable.html\n",
            "Collecting torch==1.10.0\n",
            "  Downloading https://download.pytorch.org/whl/rocm4.2/torch-1.10.0%2Brocm4.2-cp37-cp37m-linux_x86_64.whl (1007.8 MB)\n",
            "\u001b[K     |██████████████████████████▌     | 834.1 MB 1.2 MB/s eta 0:02:20tcmalloc: large alloc 1147494400 bytes == 0x38f08000 @  0x7fcf00dab615 0x592b76 0x4df71e 0x59afff 0x515655 0x549576 0x593fce 0x548ae9 0x51566f 0x549576 0x593fce 0x548ae9 0x5127f1 0x598e3b 0x511f68 0x598e3b 0x511f68 0x598e3b 0x511f68 0x4bc98a 0x532e76 0x594b72 0x515600 0x549576 0x593fce 0x548ae9 0x5127f1 0x549576 0x593fce 0x5118f8 0x593dd7\n",
            "\u001b[K     |████████████████████████████████| 1007.8 MB 1.3 MB/s eta 0:00:01tcmalloc: large alloc 1259798528 bytes == 0xb9684000 @  0x7fcf00dab615 0x592b76 0x4df71e 0x59afff 0x515655 0x549576 0x593fce 0x511e2c 0x549576 0x593fce 0x511e2c 0x549576 0x593fce 0x511e2c 0x549576 0x593fce 0x511e2c 0x549576 0x593fce 0x511e2c 0x593dd7 0x511e2c 0x549576 0x593fce 0x548ae9 0x5127f1 0x549576 0x593fce 0x548ae9 0x5127f1 0x549576\n",
            "\u001b[K     |████████████████████████████████| 1007.8 MB 1.6 kB/s \n",
            "\u001b[?25hCollecting torchvision==0.11.0\n",
            "  Downloading https://download.pytorch.org/whl/rocm4.2/torchvision-0.11.0%2Brocm4.2-cp37-cp37m-linux_x86_64.whl (67.0 MB)\n",
            "\u001b[K     |████████████████████████████████| 67.0 MB 47 kB/s \n",
            "\u001b[?25hCollecting torchaudio==0.10.0\n",
            "  Downloading https://download.pytorch.org/whl/rocm4.1/torchaudio-0.10.0%2Brocm4.1-cp37-cp37m-linux_x86_64.whl (2.7 MB)\n",
            "\u001b[K     |████████████████████████████████| 2.7 MB 2.0 MB/s \n",
            "\u001b[?25hRequirement already satisfied: typing-extensions in /usr/local/lib/python3.7/dist-packages (from torch==1.10.0) (4.1.1)\n",
            "Requirement already satisfied: pillow!=8.3.0,>=5.3.0 in /usr/local/lib/python3.7/dist-packages (from torchvision==0.11.0) (7.1.2)\n",
            "Requirement already satisfied: numpy in /usr/local/lib/python3.7/dist-packages (from torchvision==0.11.0) (1.21.6)\n",
            "Installing collected packages: torch, torchvision, torchaudio\n",
            "  Attempting uninstall: torch\n",
            "    Found existing installation: torch 1.11.0+cu113\n",
            "    Uninstalling torch-1.11.0+cu113:\n",
            "      Successfully uninstalled torch-1.11.0+cu113\n",
            "  Attempting uninstall: torchvision\n",
            "    Found existing installation: torchvision 0.12.0+cu113\n",
            "    Uninstalling torchvision-0.12.0+cu113:\n",
            "      Successfully uninstalled torchvision-0.12.0+cu113\n",
            "  Attempting uninstall: torchaudio\n",
            "    Found existing installation: torchaudio 0.11.0+cu113\n",
            "    Uninstalling torchaudio-0.11.0+cu113:\n",
            "      Successfully uninstalled torchaudio-0.11.0+cu113\n",
            "\u001b[31mERROR: pip's dependency resolver does not currently take into account all the packages that are installed. This behaviour is the source of the following dependency conflicts.\n",
            "torchtext 0.12.0 requires torch==1.11.0, but you have torch 1.10.0+rocm4.2 which is incompatible.\u001b[0m\n",
            "Successfully installed torch-1.10.0+rocm4.2 torchaudio-0.10.0+rocm4.1 torchvision-0.11.0+rocm4.2\n"
          ]
        }
      ],
      "source": [
        "!nvcc --version\n",
        "!pip install torch==1.10.0 torchvision==0.11.0 torchaudio==0.10.0 -f https://download.pytorch.org/whl/torch_stable.html"
      ]
    },
    {
      "cell_type": "code",
      "execution_count": 2,
      "metadata": {
        "id": "C8_ZXCnIMKl8"
      },
      "outputs": [],
      "source": [
        "import torch\n",
        "import torch.utils.data\n",
        "from torch import nn, optim\n",
        "from torch.nn import functional as F\n",
        "import medmnist\n",
        "from medmnist import INFO, Evaluator\n",
        "from torchvision import datasets, transforms\n",
        "from torchvision.utils import save_image\n",
        "import torch.utils.data as data\n",
        "from tqdm import tqdm\n",
        "import numpy as np\n",
        "import matplotlib.pyplot as plt\n",
        "import random\n",
        "import os\n",
        "\n",
        "os.environ['CUDA_LAUNCH_BLOCKING'] = \"1\"\n",
        "os.environ['CUDA_VISIBLE_DEVICES'] = \"1\"\n"
      ]
    },
    {
      "cell_type": "code",
      "execution_count": null,
      "metadata": {
        "colab": {
          "base_uri": "https://localhost:8080/",
          "height": 35
        },
        "id": "wQ7XNNR0q7Rh",
        "outputId": "11c96357-3c47-4729-9655-41bc5c685493"
      },
      "outputs": [
        {
          "data": {
            "application/vnd.google.colaboratory.intrinsic+json": {
              "type": "string"
            },
            "text/plain": [
              "'11.3'"
            ]
          },
          "execution_count": 3,
          "metadata": {},
          "output_type": "execute_result"
        }
      ],
      "source": [
        "torch.version.cuda"
      ]
    },
    {
      "cell_type": "code",
      "execution_count": 3,
      "metadata": {
        "id": "DZjn7Q9UUHIa"
      },
      "outputs": [],
      "source": [
        "# sources: https://www.tensorflow.org/tutorials/generative/cvae\n",
        "# https://github.com/unnir/cVAE/blob/master/cvae.py\n",
        "class Encoder(nn.Module):\n",
        "    def __init__(self, feature_size, latent_dims, mode, channels, class_size):\n",
        "        super(Encoder, self).__init__()\n",
        "        self.channels = channels\n",
        "        self.class_size = class_size\n",
        "        self.feature_size = feature_size\n",
        "        self.latent_dims = latent_dims\n",
        "        self.mode = mode\n",
        "        # 28*28*3\n",
        "        #self.fc1  = nn.Linear(self.feature_size+self.class_size, 512)\n",
        "        self.fc1  = nn.Linear((12*6*6)+class_size, 128) # hard coded size after convolutions\n",
        "        self.fc2  = nn.Linear(256, 128)\n",
        "        self.fc21 = nn.Linear(128, self.latent_dims)\n",
        "        self.fc22 = nn.Linear(128, self.latent_dims)\n",
        "        self.conv1 = nn.Conv2d(self.channels, 6, 3, stride=2)\n",
        "        self.conv2 = nn.Conv2d(6, 12, 3, stride=2)   \n",
        "        self.bn1 = nn.BatchNorm2d(6)\n",
        "        self.bn2 = nn.BatchNorm2d(12)\n",
        "        self.relu = nn.ReLU()\n",
        "        self.sigmoid = nn.Sigmoid()\n",
        "\n",
        "       # self.N = torch.distributions.Normal(0, 1)\n",
        "        #self.N.loc = self.N.loc.to(\"cuda:0\")#.cuda() # hack to get sampling on the GPU\n",
        "        #self.N.scale = self.N.scale.to(\"cuda:0\")#.cuda()\n",
        "        #self.kl = 0\n",
        "\n",
        "    # this is for the beta vae\n",
        "    def sampling_beta(self, x):\n",
        "        mu =  self.linear2(x)\n",
        "        sigma = torch.exp(self.linear3(x))\n",
        "        z = mu + sigma*self.N.sample(mu.shape)\n",
        "        # to keep the latent in the region of N(0,1)\n",
        "        # self.kl = (sigma**2 + mu**2 - torch.log(sigma) - 1/2).sum()\n",
        "        # self.kl = ((sigma**2 + mu**2)/2 - torch.log(sigma) - 1/2).sum()\n",
        "        self.kl = 0.5 * torch.sum(torch.exp(sigma) + mu**2 - 1 - sigma)\n",
        "        return z\n",
        "\n",
        "    def forward(self, x, c):\n",
        "        nsamples = 100\n",
        "        x = self.relu((self.conv1(x)))\n",
        "        x = self.relu((self.conv2(x)))\n",
        "        inputs = torch.cat([x.view(-1, x.shape[1]*x.shape[2]*x.shape[3]), c], 1) # (bs, feature_size+class_size)\n",
        "        h1 = self.relu(self.fc1(inputs))\n",
        "        #h2 = self.relu(self.fc2(h1))\n",
        "        z_mu = self.fc21(h1)\n",
        "        z_var = self.fc22(h1)\n",
        "        return z_mu, z_var\n",
        "\n",
        "class Decoder(nn.Module):\n",
        "    def __init__(self, feature_size, latent_dims, mode, channels, class_size):\n",
        "        super(Decoder, self).__init__()\n",
        "        self.channels = channels\n",
        "        self.class_size = class_size\n",
        "        self.feature_size = feature_size\n",
        "        self.latent_dims = latent_dims\n",
        "        #self.fc3 = nn.Linear(self.latent_dims + self.class_size, 256)\n",
        "        self.fc3 = nn.Linear(self.latent_dims + self.class_size, 432)\n",
        "        #self.fc4 = nn.Linear(256, 432) # for generating convolutional image\n",
        "        #self.fc4 = nn.Linear(256, 256) # for generating convolutional image\n",
        "        self.conv1 = nn.ConvTranspose2d(12,6,3, stride=2)\n",
        "        self.conv2 = nn.ConvTranspose2d(6,3,3, stride=2, output_padding=1)\n",
        "        self.conv3 = nn.ConvTranspose2d(3,self.channels,1, stride=1)\n",
        "        self.bn1 = nn.BatchNorm2d(3)\n",
        "        self.bn2 = nn.BatchNorm2d(3)\n",
        "\n",
        "        self.relu = nn.ReLU()\n",
        "        self.sigmoid = nn.Sigmoid()\n",
        "\n",
        "    def forward(self, z, c):\n",
        "        inputs = torch.cat([z, c], 1) # (bs, latent_size+class_size)\n",
        "        h3 = self.relu(self.fc3(inputs))\n",
        "        #h4 = self.relu(self.fc4(h3))\n",
        "        h4 = h3.reshape(-1, 12, 6, 6) \n",
        "        h5 = self.relu(self.conv1(h4))\n",
        "        h6 = self.relu(self.conv2(h5))\n",
        "        #h7 = self.sigmoid(self.conv3(h6))\n",
        "        h7 = self.sigmoid(self.conv3(h6))\n",
        "        return h7.reshape((-1, self.channels, 28, 28))\n",
        "\n",
        "\n",
        "class VariationalAutoencoder(nn.Module):\n",
        "    def __init__(self, feature_size, latent_dims, mode, channels, class_size):\n",
        "        super(VariationalAutoencoder, self).__init__()\n",
        "        self.channels = channels\n",
        "        self.feature_size = feature_size\n",
        "        self.class_size = class_size\n",
        "        self.mode = mode\n",
        "        self.encoder = Encoder(self.feature_size, latent_dims, self.mode, self.channels, self.class_size)\n",
        "        self.decoder = Decoder(self.feature_size, latent_dims, self.mode, self.channels, self.class_size)\n",
        "    \n",
        "    def forward(self, x, c):\n",
        "        mu, logvar = self.encoder.forward(x, c)\n",
        "        z = self.reparameterize(mu, logvar)\n",
        "        return self.decoder.forward(z, c), mu, logvar\n",
        "\n",
        "    def one_hot(self,labels, class_size):\n",
        "      targets = torch.zeros(labels.size(0), class_size)\n",
        "      for i, label in enumerate(labels):\n",
        "        targets[i, label] = 1\n",
        "      return targets.to(device)\n",
        "\n",
        "    def reparameterize(self, mu, logvar):\n",
        "      std = torch.exp(0.5*logvar)\n",
        "      eps = torch.randn_like(std)\n",
        "      return mu + eps*std\n",
        "  \n",
        "    # Reconstruction + KL divergence losses summed over all elements and batch\n",
        "    def loss_function(self, recon_x, x, mu, logvar):\n",
        "      BCE = F.binary_cross_entropy(recon_x, x, reduction='sum')\n",
        "      # see Appendix B from VAE paper:\n",
        "      # Kingma and Welling. Auto-Encoding Variational Bayes. ICLR, 2014\n",
        "      # https://arxiv.org/abs/1312.6114\n",
        "      # 0.5 * sum(1 + log(sigma^2) - mu^2 - sigma^2)\n",
        "      KLD = -0.5 * torch.sum(1 + logvar - mu.pow(2) - logvar.exp())\n",
        "      return BCE + KLD, BCE, KLD\n",
        "    \n",
        "    def train(self, data, epochs=5, lr=0.001, device=\"cpu\", fast=False):\n",
        "        # only for fast training\n",
        "        opt = torch.optim.Adam(self.parameters(), lr=lr)\n",
        "        for epoch in range(epochs):\n",
        "            i = 0\n",
        "            train_loss = 0\n",
        "            for x, y in tqdm(data):\n",
        "                if fast and i > nsamples:\n",
        "                    break\n",
        "                i= i + 1\n",
        "                # print(x.shape)\n",
        "                x = x.to(device) # GPU\n",
        "                y = self.one_hot(y, self.class_size)\n",
        "                # for sample in x:\n",
        "                x_hat, mu, logvar = self.forward(x, y)\n",
        "                opt.zero_grad()\n",
        "                loss, bce, kld = self.loss_function(x_hat, x, mu, logvar)\n",
        "                loss.backward()\n",
        "                train_loss += loss.detach().cpu().numpy()\n",
        "                opt.step()\n",
        "                \n",
        "                #loss = diff + self.encoder.kl             \n",
        "                # loss = self.encoder.kl                              \n",
        "                # loss = bce + 10 * self.encoder.kl + diff                        \n",
        "                #loss.backward()\n",
        "                #opt.step()\n",
        "            print(\"Iteration:\", epoch, \"Loss:\", loss.item(), \"KLD:\", kld.item(), \"BCE:\", bce.item())"
      ]
    },
    {
      "cell_type": "code",
      "execution_count": 4,
      "metadata": {
        "colab": {
          "base_uri": "https://localhost:8080/",
          "height": 121,
          "referenced_widgets": [
            "b6a4377144bc492eaef70b4b3e778ece",
            "0d44db824d2645bc8c33f4c068f40458",
            "42589e10063f4c899a6a16141885a79b",
            "1e5f78e0e41f43c18c2bc9becf22239f",
            "8a3ae0d775594de0a17507d847585038",
            "32e8e31bb20c49869320f8561565c6ef",
            "ca103825a2e24c89bfd6349b45c76a2f",
            "ead6d48eee45449582021ec9f15fb7e4",
            "79d25318d0ba48d9aaf58ce7c5988f4b",
            "31e34d4331fe47818db19c47864d7ef9",
            "95891e7bb2c046129134aa2d4c5a2c09"
          ]
        },
        "id": "LV3DxVhXW14V",
        "outputId": "96fce5cb-b3f0-49c9-a948-bd7e0bf24694"
      },
      "outputs": [
        {
          "output_type": "stream",
          "name": "stdout",
          "text": [
            "Downloading https://zenodo.org/record/6496656/files/organamnist.npz?download=1 to /root/.medmnist/organamnist.npz\n"
          ]
        },
        {
          "output_type": "display_data",
          "data": {
            "text/plain": [
              "  0%|          | 0/38247903 [00:00<?, ?it/s]"
            ],
            "application/vnd.jupyter.widget-view+json": {
              "version_major": 2,
              "version_minor": 0,
              "model_id": "b6a4377144bc492eaef70b4b3e778ece"
            }
          },
          "metadata": {}
        },
        {
          "output_type": "stream",
          "name": "stdout",
          "text": [
            "Using downloaded and verified file: /root/.medmnist/organamnist.npz\n",
            "Using downloaded and verified file: /root/.medmnist/organamnist.npz\n"
          ]
        }
      ],
      "source": [
        "#data_flag = 'pathmnist'\n",
        "#data_flag = 'bloodmnist'\n",
        "data_flag = 'organamnist'\n",
        "# data_flag = 'breastmnist'\n",
        "#data_flag = 'octmnist'\n",
        "# data_flag = 'chestmnist'\n",
        "# data_flag = 'tissuemnist'\n",
        "download = True\n",
        "\n",
        "# hyper params\n",
        "batch_size = 64\n",
        "\n",
        "info = INFO[data_flag]\n",
        "task = info['task']\n",
        "n_channels = info['n_channels']\n",
        "n_classes = len(info['label'])\n",
        "\n",
        "DataClass = getattr(medmnist, info['python_class'])\n",
        "\n",
        "# preprocessing\n",
        "data_transform = transforms.Compose([\n",
        "    transforms.ToTensor(),\n",
        "    # transforms.Normalize(mean=[.5], std=[.5])\n",
        "])\n",
        "\n",
        "# load the data\n",
        "train_dataset = DataClass(split='train', transform=data_transform, download=download)\n",
        "test_dataset = DataClass(split='test', transform=data_transform, download=download)\n",
        "\n",
        "pil_dataset = DataClass(split='train', download=download)\n",
        "\n",
        "# encapsulate data into dataloader form\n",
        "train_loader = data.DataLoader(dataset=train_dataset, batch_size=batch_size, shuffle=True)\n",
        "train_loader_at_eval = data.DataLoader(dataset=train_dataset, batch_size=2*batch_size, shuffle=False)\n",
        "test_loader = data.DataLoader(dataset=test_dataset, batch_size=batch_size, shuffle=False)"
      ]
    },
    {
      "cell_type": "code",
      "execution_count": 5,
      "metadata": {
        "colab": {
          "base_uri": "https://localhost:8080/"
        },
        "id": "X-QMEGhRXzwW",
        "outputId": "3f8f5162-f9d7-4d80-86ab-35c18c9ddce6"
      },
      "outputs": [
        {
          "output_type": "stream",
          "name": "stderr",
          "text": [
            "100%|██████████| 541/541 [00:12<00:00, 42.16it/s]\n"
          ]
        },
        {
          "output_type": "stream",
          "name": "stdout",
          "text": [
            "Iteration: 0 Loss: 10604.9736328125 KLD: 139.61260986328125 BCE: 10465.361328125\n"
          ]
        },
        {
          "output_type": "stream",
          "name": "stderr",
          "text": [
            "100%|██████████| 541/541 [00:11<00:00, 46.33it/s]\n"
          ]
        },
        {
          "output_type": "stream",
          "name": "stdout",
          "text": [
            "Iteration: 1 Loss: 10447.2880859375 KLD: 184.3435821533203 BCE: 10262.9443359375\n"
          ]
        },
        {
          "output_type": "stream",
          "name": "stderr",
          "text": [
            "100%|██████████| 541/541 [00:17<00:00, 31.04it/s]\n"
          ]
        },
        {
          "output_type": "stream",
          "name": "stdout",
          "text": [
            "Iteration: 2 Loss: 9645.3984375 KLD: 218.9850311279297 BCE: 9426.4130859375\n"
          ]
        },
        {
          "output_type": "stream",
          "name": "stderr",
          "text": [
            "100%|██████████| 541/541 [00:11<00:00, 46.06it/s]\n"
          ]
        },
        {
          "output_type": "stream",
          "name": "stdout",
          "text": [
            "Iteration: 3 Loss: 9602.6904296875 KLD: 226.4593048095703 BCE: 9376.2314453125\n"
          ]
        },
        {
          "output_type": "stream",
          "name": "stderr",
          "text": [
            "100%|██████████| 541/541 [00:11<00:00, 46.26it/s]\n"
          ]
        },
        {
          "output_type": "stream",
          "name": "stdout",
          "text": [
            "Iteration: 4 Loss: 9098.77734375 KLD: 205.37753295898438 BCE: 8893.3994140625\n"
          ]
        },
        {
          "output_type": "stream",
          "name": "stderr",
          "text": [
            "100%|██████████| 541/541 [00:12<00:00, 42.32it/s]\n"
          ]
        },
        {
          "output_type": "stream",
          "name": "stdout",
          "text": [
            "Iteration: 5 Loss: 10090.060546875 KLD: 234.88955688476562 BCE: 9855.1708984375\n"
          ]
        },
        {
          "output_type": "stream",
          "name": "stderr",
          "text": [
            "100%|██████████| 541/541 [00:11<00:00, 45.83it/s]\n"
          ]
        },
        {
          "output_type": "stream",
          "name": "stdout",
          "text": [
            "Iteration: 6 Loss: 8998.17578125 KLD: 239.80892944335938 BCE: 8758.3671875\n"
          ]
        },
        {
          "output_type": "stream",
          "name": "stderr",
          "text": [
            "100%|██████████| 541/541 [00:11<00:00, 45.88it/s]\n"
          ]
        },
        {
          "output_type": "stream",
          "name": "stdout",
          "text": [
            "Iteration: 7 Loss: 10009.677734375 KLD: 211.9632568359375 BCE: 9797.71484375\n"
          ]
        },
        {
          "output_type": "stream",
          "name": "stderr",
          "text": [
            "100%|██████████| 541/541 [00:11<00:00, 46.21it/s]\n"
          ]
        },
        {
          "output_type": "stream",
          "name": "stdout",
          "text": [
            "Iteration: 8 Loss: 9436.359375 KLD: 218.94456481933594 BCE: 9217.4150390625\n"
          ]
        },
        {
          "output_type": "stream",
          "name": "stderr",
          "text": [
            "100%|██████████| 541/541 [00:12<00:00, 43.77it/s]"
          ]
        },
        {
          "output_type": "stream",
          "name": "stdout",
          "text": [
            "Iteration: 9 Loss: 10014.9931640625 KLD: 193.6864013671875 BCE: 9821.306640625\n"
          ]
        },
        {
          "output_type": "stream",
          "name": "stderr",
          "text": [
            "\n"
          ]
        }
      ],
      "source": [
        "latent_dims = 64\n",
        "channels = 1\n",
        "img_heigt = 28\n",
        "img_width = 28\n",
        "lr = 0.01\n",
        "epochs = 10\n",
        "#device = torch.device(\"cuda\" if torch.cuda.is_available() else \"cpu\")\n",
        "device = 'cpu' # if no access to GPU \n",
        "vae = VariationalAutoencoder(28*28*channels, latent_dims, mode=\"conditional\", channels=channels, class_size=n_classes).to(device)\n",
        "\n",
        "vae.train(train_loader, lr=lr, epochs=epochs, device=device)"
      ]
    },
    {
      "cell_type": "code",
      "execution_count": 6,
      "metadata": {
        "colab": {
          "base_uri": "https://localhost:8080/"
        },
        "id": "GJhS4vBSV--F",
        "outputId": "80563959-72b2-4009-8e20-c0dfec970f5d"
      },
      "outputs": [
        {
          "output_type": "stream",
          "name": "stderr",
          "text": [
            "100%|██████████| 541/541 [00:11<00:00, 47.91it/s]\n"
          ]
        },
        {
          "output_type": "stream",
          "name": "stdout",
          "text": [
            "Iteration: 0 Loss: 10098.3447265625 KLD: 218.40036010742188 BCE: 9879.9443359375\n"
          ]
        },
        {
          "output_type": "stream",
          "name": "stderr",
          "text": [
            "100%|██████████| 541/541 [00:11<00:00, 47.66it/s]\n"
          ]
        },
        {
          "output_type": "stream",
          "name": "stdout",
          "text": [
            "Iteration: 1 Loss: 9820.0234375 KLD: 216.57693481445312 BCE: 9603.4462890625\n"
          ]
        },
        {
          "output_type": "stream",
          "name": "stderr",
          "text": [
            "100%|██████████| 541/541 [00:11<00:00, 47.38it/s]\n"
          ]
        },
        {
          "output_type": "stream",
          "name": "stdout",
          "text": [
            "Iteration: 2 Loss: 9687.9482421875 KLD: 221.62689208984375 BCE: 9466.3212890625\n"
          ]
        },
        {
          "output_type": "stream",
          "name": "stderr",
          "text": [
            "100%|██████████| 541/541 [00:11<00:00, 47.87it/s]\n"
          ]
        },
        {
          "output_type": "stream",
          "name": "stdout",
          "text": [
            "Iteration: 3 Loss: 9683.046875 KLD: 247.69515991210938 BCE: 9435.3515625\n"
          ]
        },
        {
          "output_type": "stream",
          "name": "stderr",
          "text": [
            "100%|██████████| 541/541 [00:11<00:00, 47.41it/s]\n"
          ]
        },
        {
          "output_type": "stream",
          "name": "stdout",
          "text": [
            "Iteration: 4 Loss: 9292.953125 KLD: 230.34912109375 BCE: 9062.6044921875\n"
          ]
        },
        {
          "output_type": "stream",
          "name": "stderr",
          "text": [
            "100%|██████████| 541/541 [00:11<00:00, 47.83it/s]\n"
          ]
        },
        {
          "output_type": "stream",
          "name": "stdout",
          "text": [
            "Iteration: 5 Loss: 9753.9111328125 KLD: 252.89706420898438 BCE: 9501.013671875\n"
          ]
        },
        {
          "output_type": "stream",
          "name": "stderr",
          "text": [
            "100%|██████████| 541/541 [00:11<00:00, 47.46it/s]\n"
          ]
        },
        {
          "output_type": "stream",
          "name": "stdout",
          "text": [
            "Iteration: 6 Loss: 10199.205078125 KLD: 201.56228637695312 BCE: 9997.642578125\n"
          ]
        },
        {
          "output_type": "stream",
          "name": "stderr",
          "text": [
            "100%|██████████| 541/541 [00:11<00:00, 47.55it/s]\n"
          ]
        },
        {
          "output_type": "stream",
          "name": "stdout",
          "text": [
            "Iteration: 7 Loss: 8619.03515625 KLD: 264.7295227050781 BCE: 8354.3056640625\n"
          ]
        },
        {
          "output_type": "stream",
          "name": "stderr",
          "text": [
            "100%|██████████| 541/541 [00:11<00:00, 47.37it/s]\n"
          ]
        },
        {
          "output_type": "stream",
          "name": "stdout",
          "text": [
            "Iteration: 8 Loss: 10094.8095703125 KLD: 217.39541625976562 BCE: 9877.4140625\n"
          ]
        },
        {
          "output_type": "stream",
          "name": "stderr",
          "text": [
            "100%|██████████| 541/541 [00:11<00:00, 47.48it/s]"
          ]
        },
        {
          "output_type": "stream",
          "name": "stdout",
          "text": [
            "Iteration: 9 Loss: 9650.5087890625 KLD: 215.5552215576172 BCE: 9434.953125\n"
          ]
        },
        {
          "output_type": "stream",
          "name": "stderr",
          "text": [
            "\n"
          ]
        }
      ],
      "source": [
        "vae.train(train_loader, lr=lr, epochs=epochs, device=device)"
      ]
    },
    {
      "cell_type": "code",
      "execution_count": 8,
      "metadata": {
        "id": "n68ObDcMeliy",
        "colab": {
          "base_uri": "https://localhost:8080/"
        },
        "outputId": "c5213feb-d1f5-42cf-f1d5-1626e112d3ba"
      },
      "outputs": [
        {
          "output_type": "stream",
          "name": "stderr",
          "text": [
            "100%|██████████| 541/541 [00:11<00:00, 47.44it/s]\n"
          ]
        },
        {
          "output_type": "stream",
          "name": "stdout",
          "text": [
            "Iteration: 0 Loss: 9342.5712890625 KLD: 246.65155029296875 BCE: 9095.919921875\n"
          ]
        },
        {
          "output_type": "stream",
          "name": "stderr",
          "text": [
            "100%|██████████| 541/541 [00:11<00:00, 47.56it/s]\n"
          ]
        },
        {
          "output_type": "stream",
          "name": "stdout",
          "text": [
            "Iteration: 1 Loss: 8747.3310546875 KLD: 253.6173858642578 BCE: 8493.7138671875\n"
          ]
        },
        {
          "output_type": "stream",
          "name": "stderr",
          "text": [
            "100%|██████████| 541/541 [00:11<00:00, 47.79it/s]\n"
          ]
        },
        {
          "output_type": "stream",
          "name": "stdout",
          "text": [
            "Iteration: 2 Loss: 10085.2734375 KLD: 197.4281768798828 BCE: 9887.845703125\n"
          ]
        },
        {
          "output_type": "stream",
          "name": "stderr",
          "text": [
            "100%|██████████| 541/541 [00:11<00:00, 47.47it/s]\n"
          ]
        },
        {
          "output_type": "stream",
          "name": "stdout",
          "text": [
            "Iteration: 3 Loss: 9247.4365234375 KLD: 255.39901733398438 BCE: 8992.037109375\n"
          ]
        },
        {
          "output_type": "stream",
          "name": "stderr",
          "text": [
            "100%|██████████| 541/541 [00:11<00:00, 47.43it/s]\n"
          ]
        },
        {
          "output_type": "stream",
          "name": "stdout",
          "text": [
            "Iteration: 4 Loss: 9517.5693359375 KLD: 256.8388671875 BCE: 9260.73046875\n"
          ]
        },
        {
          "output_type": "stream",
          "name": "stderr",
          "text": [
            "100%|██████████| 541/541 [00:11<00:00, 47.61it/s]\n"
          ]
        },
        {
          "output_type": "stream",
          "name": "stdout",
          "text": [
            "Iteration: 5 Loss: 9577.484375 KLD: 240.3390655517578 BCE: 9337.1455078125\n"
          ]
        },
        {
          "output_type": "stream",
          "name": "stderr",
          "text": [
            "100%|██████████| 541/541 [00:11<00:00, 47.84it/s]\n"
          ]
        },
        {
          "output_type": "stream",
          "name": "stdout",
          "text": [
            "Iteration: 6 Loss: 9669.1259765625 KLD: 223.69143676757812 BCE: 9445.4345703125\n"
          ]
        },
        {
          "output_type": "stream",
          "name": "stderr",
          "text": [
            "100%|██████████| 541/541 [00:11<00:00, 47.47it/s]\n"
          ]
        },
        {
          "output_type": "stream",
          "name": "stdout",
          "text": [
            "Iteration: 7 Loss: 8925.1162109375 KLD: 275.43756103515625 BCE: 8649.6787109375\n"
          ]
        },
        {
          "output_type": "stream",
          "name": "stderr",
          "text": [
            "100%|██████████| 541/541 [00:11<00:00, 48.01it/s]\n"
          ]
        },
        {
          "output_type": "stream",
          "name": "stdout",
          "text": [
            "Iteration: 8 Loss: 9792.328125 KLD: 248.92529296875 BCE: 9543.40234375\n"
          ]
        },
        {
          "output_type": "stream",
          "name": "stderr",
          "text": [
            "100%|██████████| 541/541 [00:11<00:00, 47.58it/s]"
          ]
        },
        {
          "output_type": "stream",
          "name": "stdout",
          "text": [
            "Iteration: 9 Loss: 9530.494140625 KLD: 248.13882446289062 BCE: 9282.35546875\n"
          ]
        },
        {
          "output_type": "stream",
          "name": "stderr",
          "text": [
            "\n"
          ]
        }
      ],
      "source": [
        "vae.train(train_loader, lr=lr, epochs=epochs, device=device)"
      ]
    },
    {
      "cell_type": "code",
      "execution_count": 9,
      "metadata": {
        "id": "j70r8seGgazT",
        "colab": {
          "base_uri": "https://localhost:8080/"
        },
        "outputId": "f8da91bb-6cde-4f18-a528-c1b63f29f9e0"
      },
      "outputs": [
        {
          "output_type": "stream",
          "name": "stderr",
          "text": [
            "100%|██████████| 541/541 [00:11<00:00, 47.54it/s]\n"
          ]
        },
        {
          "output_type": "stream",
          "name": "stdout",
          "text": [
            "Iteration: 0 Loss: 10326.470703125 KLD: 194.48606872558594 BCE: 10131.984375\n"
          ]
        },
        {
          "output_type": "stream",
          "name": "stderr",
          "text": [
            "100%|██████████| 541/541 [00:11<00:00, 47.46it/s]\n"
          ]
        },
        {
          "output_type": "stream",
          "name": "stdout",
          "text": [
            "Iteration: 1 Loss: 9706.4248046875 KLD: 225.34939575195312 BCE: 9481.0751953125\n"
          ]
        },
        {
          "output_type": "stream",
          "name": "stderr",
          "text": [
            "100%|██████████| 541/541 [00:11<00:00, 47.53it/s]\n"
          ]
        },
        {
          "output_type": "stream",
          "name": "stdout",
          "text": [
            "Iteration: 2 Loss: 9657.0517578125 KLD: 245.87808227539062 BCE: 9411.173828125\n"
          ]
        },
        {
          "output_type": "stream",
          "name": "stderr",
          "text": [
            "100%|██████████| 541/541 [00:11<00:00, 47.11it/s]\n"
          ]
        },
        {
          "output_type": "stream",
          "name": "stdout",
          "text": [
            "Iteration: 3 Loss: 9872.171875 KLD: 235.073974609375 BCE: 9637.09765625\n"
          ]
        },
        {
          "output_type": "stream",
          "name": "stderr",
          "text": [
            "100%|██████████| 541/541 [00:11<00:00, 47.17it/s]\n"
          ]
        },
        {
          "output_type": "stream",
          "name": "stdout",
          "text": [
            "Iteration: 4 Loss: 9577.3984375 KLD: 209.5631561279297 BCE: 9367.8349609375\n"
          ]
        },
        {
          "output_type": "stream",
          "name": "stderr",
          "text": [
            "100%|██████████| 541/541 [00:11<00:00, 47.17it/s]\n"
          ]
        },
        {
          "output_type": "stream",
          "name": "stdout",
          "text": [
            "Iteration: 5 Loss: 9856.138671875 KLD: 232.236572265625 BCE: 9623.90234375\n"
          ]
        },
        {
          "output_type": "stream",
          "name": "stderr",
          "text": [
            "100%|██████████| 541/541 [00:11<00:00, 46.83it/s]\n"
          ]
        },
        {
          "output_type": "stream",
          "name": "stdout",
          "text": [
            "Iteration: 6 Loss: 9261.9423828125 KLD: 227.1422119140625 BCE: 9034.7998046875\n"
          ]
        },
        {
          "output_type": "stream",
          "name": "stderr",
          "text": [
            "100%|██████████| 541/541 [00:11<00:00, 47.08it/s]\n"
          ]
        },
        {
          "output_type": "stream",
          "name": "stdout",
          "text": [
            "Iteration: 7 Loss: 9514.0673828125 KLD: 230.04367065429688 BCE: 9284.0234375\n"
          ]
        },
        {
          "output_type": "stream",
          "name": "stderr",
          "text": [
            "100%|██████████| 541/541 [00:11<00:00, 47.27it/s]\n"
          ]
        },
        {
          "output_type": "stream",
          "name": "stdout",
          "text": [
            "Iteration: 8 Loss: 9908.11328125 KLD: 220.94451904296875 BCE: 9687.1689453125\n"
          ]
        },
        {
          "output_type": "stream",
          "name": "stderr",
          "text": [
            "100%|██████████| 541/541 [00:11<00:00, 46.68it/s]"
          ]
        },
        {
          "output_type": "stream",
          "name": "stdout",
          "text": [
            "Iteration: 9 Loss: 8737.1904296875 KLD: 247.0515594482422 BCE: 8490.138671875\n"
          ]
        },
        {
          "output_type": "stream",
          "name": "stderr",
          "text": [
            "\n"
          ]
        }
      ],
      "source": [
        "vae.train(train_loader, lr=lr, epochs=epochs, device=device)"
      ]
    },
    {
      "cell_type": "code",
      "execution_count": 10,
      "metadata": {
        "id": "vR1yzUhwhorU",
        "colab": {
          "base_uri": "https://localhost:8080/"
        },
        "outputId": "83f6d13e-290f-4726-afcc-64c887cb60ec"
      },
      "outputs": [
        {
          "output_type": "stream",
          "name": "stderr",
          "text": [
            "100%|██████████| 541/541 [00:11<00:00, 46.52it/s]\n"
          ]
        },
        {
          "output_type": "stream",
          "name": "stdout",
          "text": [
            "Iteration: 0 Loss: 9380.9140625 KLD: 217.26370239257812 BCE: 9163.650390625\n"
          ]
        },
        {
          "output_type": "stream",
          "name": "stderr",
          "text": [
            "100%|██████████| 541/541 [00:11<00:00, 46.19it/s]\n"
          ]
        },
        {
          "output_type": "stream",
          "name": "stdout",
          "text": [
            "Iteration: 1 Loss: 8802.94140625 KLD: 259.828125 BCE: 8543.11328125\n"
          ]
        },
        {
          "output_type": "stream",
          "name": "stderr",
          "text": [
            "100%|██████████| 541/541 [00:11<00:00, 46.73it/s]\n"
          ]
        },
        {
          "output_type": "stream",
          "name": "stdout",
          "text": [
            "Iteration: 2 Loss: 10014.5419921875 KLD: 223.08172607421875 BCE: 9791.4599609375\n"
          ]
        },
        {
          "output_type": "stream",
          "name": "stderr",
          "text": [
            "100%|██████████| 541/541 [00:11<00:00, 47.37it/s]\n"
          ]
        },
        {
          "output_type": "stream",
          "name": "stdout",
          "text": [
            "Iteration: 3 Loss: 9176.1982421875 KLD: 216.435302734375 BCE: 8959.7626953125\n"
          ]
        },
        {
          "output_type": "stream",
          "name": "stderr",
          "text": [
            "100%|██████████| 541/541 [00:11<00:00, 47.61it/s]\n"
          ]
        },
        {
          "output_type": "stream",
          "name": "stdout",
          "text": [
            "Iteration: 4 Loss: 10040.6171875 KLD: 252.6500244140625 BCE: 9787.966796875\n"
          ]
        },
        {
          "output_type": "stream",
          "name": "stderr",
          "text": [
            "100%|██████████| 541/541 [00:11<00:00, 47.11it/s]\n"
          ]
        },
        {
          "output_type": "stream",
          "name": "stdout",
          "text": [
            "Iteration: 5 Loss: 9363.4189453125 KLD: 271.07122802734375 BCE: 9092.34765625\n"
          ]
        },
        {
          "output_type": "stream",
          "name": "stderr",
          "text": [
            "100%|██████████| 541/541 [00:11<00:00, 46.84it/s]\n"
          ]
        },
        {
          "output_type": "stream",
          "name": "stdout",
          "text": [
            "Iteration: 6 Loss: 9822.6103515625 KLD: 239.51853942871094 BCE: 9583.091796875\n"
          ]
        },
        {
          "output_type": "stream",
          "name": "stderr",
          "text": [
            "100%|██████████| 541/541 [00:11<00:00, 46.79it/s]\n"
          ]
        },
        {
          "output_type": "stream",
          "name": "stdout",
          "text": [
            "Iteration: 7 Loss: 8975.33984375 KLD: 270.4532470703125 BCE: 8704.88671875\n"
          ]
        },
        {
          "output_type": "stream",
          "name": "stderr",
          "text": [
            "100%|██████████| 541/541 [00:11<00:00, 47.23it/s]\n"
          ]
        },
        {
          "output_type": "stream",
          "name": "stdout",
          "text": [
            "Iteration: 8 Loss: 9081.1640625 KLD: 240.80429077148438 BCE: 8840.359375\n"
          ]
        },
        {
          "output_type": "stream",
          "name": "stderr",
          "text": [
            "100%|██████████| 541/541 [00:11<00:00, 47.06it/s]"
          ]
        },
        {
          "output_type": "stream",
          "name": "stdout",
          "text": [
            "Iteration: 9 Loss: 9205.7392578125 KLD: 251.73330688476562 BCE: 8954.005859375\n"
          ]
        },
        {
          "output_type": "stream",
          "name": "stderr",
          "text": [
            "\n"
          ]
        }
      ],
      "source": [
        "vae.train(train_loader, lr=lr, epochs=epochs, device=device)"
      ]
    },
    {
      "cell_type": "code",
      "execution_count": 11,
      "metadata": {
        "id": "962VT6mvaDAm",
        "colab": {
          "base_uri": "https://localhost:8080/"
        },
        "outputId": "7fff93a9-bbbc-480e-bb2f-b5beaa32d745"
      },
      "outputs": [
        {
          "output_type": "stream",
          "name": "stderr",
          "text": [
            "100%|██████████| 541/541 [00:11<00:00, 47.37it/s]\n"
          ]
        },
        {
          "output_type": "stream",
          "name": "stdout",
          "text": [
            "Iteration: 0 Loss: 9983.38671875 KLD: 240.73794555664062 BCE: 9742.6484375\n"
          ]
        },
        {
          "output_type": "stream",
          "name": "stderr",
          "text": [
            "100%|██████████| 541/541 [00:11<00:00, 47.34it/s]\n"
          ]
        },
        {
          "output_type": "stream",
          "name": "stdout",
          "text": [
            "Iteration: 1 Loss: 10114.275390625 KLD: 235.88121032714844 BCE: 9878.39453125\n"
          ]
        },
        {
          "output_type": "stream",
          "name": "stderr",
          "text": [
            "100%|██████████| 541/541 [00:11<00:00, 47.12it/s]\n"
          ]
        },
        {
          "output_type": "stream",
          "name": "stdout",
          "text": [
            "Iteration: 2 Loss: 9008.7490234375 KLD: 269.15753173828125 BCE: 8739.591796875\n"
          ]
        },
        {
          "output_type": "stream",
          "name": "stderr",
          "text": [
            "100%|██████████| 541/541 [00:11<00:00, 47.12it/s]\n"
          ]
        },
        {
          "output_type": "stream",
          "name": "stdout",
          "text": [
            "Iteration: 3 Loss: 10667.3203125 KLD: 197.73728942871094 BCE: 10469.5830078125\n"
          ]
        },
        {
          "output_type": "stream",
          "name": "stderr",
          "text": [
            "100%|██████████| 541/541 [00:11<00:00, 47.50it/s]\n"
          ]
        },
        {
          "output_type": "stream",
          "name": "stdout",
          "text": [
            "Iteration: 4 Loss: 9897.16796875 KLD: 205.9034881591797 BCE: 9691.2646484375\n"
          ]
        },
        {
          "output_type": "stream",
          "name": "stderr",
          "text": [
            "100%|██████████| 541/541 [00:11<00:00, 47.55it/s]\n"
          ]
        },
        {
          "output_type": "stream",
          "name": "stdout",
          "text": [
            "Iteration: 5 Loss: 9268.1083984375 KLD: 272.6486511230469 BCE: 8995.4599609375\n"
          ]
        },
        {
          "output_type": "stream",
          "name": "stderr",
          "text": [
            "100%|██████████| 541/541 [00:11<00:00, 47.37it/s]\n"
          ]
        },
        {
          "output_type": "stream",
          "name": "stdout",
          "text": [
            "Iteration: 6 Loss: 9445.0078125 KLD: 255.85121154785156 BCE: 9189.15625\n"
          ]
        },
        {
          "output_type": "stream",
          "name": "stderr",
          "text": [
            "100%|██████████| 541/541 [00:11<00:00, 47.14it/s]\n"
          ]
        },
        {
          "output_type": "stream",
          "name": "stdout",
          "text": [
            "Iteration: 7 Loss: 10112.6533203125 KLD: 248.91070556640625 BCE: 9863.7421875\n"
          ]
        },
        {
          "output_type": "stream",
          "name": "stderr",
          "text": [
            "100%|██████████| 541/541 [00:11<00:00, 46.65it/s]\n"
          ]
        },
        {
          "output_type": "stream",
          "name": "stdout",
          "text": [
            "Iteration: 8 Loss: 9777.4599609375 KLD: 278.9043884277344 BCE: 9498.5556640625\n"
          ]
        },
        {
          "output_type": "stream",
          "name": "stderr",
          "text": [
            "100%|██████████| 541/541 [00:11<00:00, 47.05it/s]"
          ]
        },
        {
          "output_type": "stream",
          "name": "stdout",
          "text": [
            "Iteration: 9 Loss: 9986.2197265625 KLD: 246.14964294433594 BCE: 9740.0703125\n"
          ]
        },
        {
          "output_type": "stream",
          "name": "stderr",
          "text": [
            "\n"
          ]
        }
      ],
      "source": [
        "vae.train(train_loader, lr=lr, epochs=epochs, device=device)"
      ]
    },
    {
      "cell_type": "code",
      "execution_count": 12,
      "metadata": {
        "colab": {
          "base_uri": "https://localhost:8080/"
        },
        "id": "wIIXuVDnavN9",
        "outputId": "2c5c92c1-858b-4287-d9ed-ec04522361db"
      },
      "outputs": [
        {
          "output_type": "stream",
          "name": "stderr",
          "text": [
            "100%|██████████| 541/541 [00:11<00:00, 47.05it/s]\n"
          ]
        },
        {
          "output_type": "stream",
          "name": "stdout",
          "text": [
            "Iteration: 0 Loss: 9812.490234375 KLD: 251.5319061279297 BCE: 9560.9580078125\n"
          ]
        },
        {
          "output_type": "stream",
          "name": "stderr",
          "text": [
            "100%|██████████| 541/541 [00:11<00:00, 46.82it/s]\n"
          ]
        },
        {
          "output_type": "stream",
          "name": "stdout",
          "text": [
            "Iteration: 1 Loss: 9348.5458984375 KLD: 272.471923828125 BCE: 9076.07421875\n"
          ]
        },
        {
          "output_type": "stream",
          "name": "stderr",
          "text": [
            "100%|██████████| 541/541 [00:11<00:00, 47.10it/s]\n"
          ]
        },
        {
          "output_type": "stream",
          "name": "stdout",
          "text": [
            "Iteration: 2 Loss: 9041.669921875 KLD: 255.66397094726562 BCE: 8786.005859375\n"
          ]
        },
        {
          "output_type": "stream",
          "name": "stderr",
          "text": [
            "100%|██████████| 541/541 [00:11<00:00, 47.18it/s]\n"
          ]
        },
        {
          "output_type": "stream",
          "name": "stdout",
          "text": [
            "Iteration: 3 Loss: 8755.2861328125 KLD: 324.3740539550781 BCE: 8430.912109375\n"
          ]
        },
        {
          "output_type": "stream",
          "name": "stderr",
          "text": [
            "100%|██████████| 541/541 [00:11<00:00, 47.37it/s]\n"
          ]
        },
        {
          "output_type": "stream",
          "name": "stdout",
          "text": [
            "Iteration: 4 Loss: 9483.3896484375 KLD: 245.62542724609375 BCE: 9237.7646484375\n"
          ]
        },
        {
          "output_type": "stream",
          "name": "stderr",
          "text": [
            "100%|██████████| 541/541 [00:11<00:00, 47.13it/s]\n"
          ]
        },
        {
          "output_type": "stream",
          "name": "stdout",
          "text": [
            "Iteration: 5 Loss: 9611.818359375 KLD: 236.80291748046875 BCE: 9375.015625\n"
          ]
        },
        {
          "output_type": "stream",
          "name": "stderr",
          "text": [
            "100%|██████████| 541/541 [00:11<00:00, 47.25it/s]\n"
          ]
        },
        {
          "output_type": "stream",
          "name": "stdout",
          "text": [
            "Iteration: 6 Loss: 9961.8134765625 KLD: 192.9400634765625 BCE: 9768.873046875\n"
          ]
        },
        {
          "output_type": "stream",
          "name": "stderr",
          "text": [
            "100%|██████████| 541/541 [00:11<00:00, 47.07it/s]\n"
          ]
        },
        {
          "output_type": "stream",
          "name": "stdout",
          "text": [
            "Iteration: 7 Loss: 9296.3369140625 KLD: 283.59173583984375 BCE: 9012.7451171875\n"
          ]
        },
        {
          "output_type": "stream",
          "name": "stderr",
          "text": [
            "100%|██████████| 541/541 [00:11<00:00, 46.92it/s]\n"
          ]
        },
        {
          "output_type": "stream",
          "name": "stdout",
          "text": [
            "Iteration: 8 Loss: 9784.5205078125 KLD: 246.82943725585938 BCE: 9537.69140625\n"
          ]
        },
        {
          "output_type": "stream",
          "name": "stderr",
          "text": [
            "100%|██████████| 541/541 [00:11<00:00, 46.96it/s]"
          ]
        },
        {
          "output_type": "stream",
          "name": "stdout",
          "text": [
            "Iteration: 9 Loss: 9391.126953125 KLD: 257.1777648925781 BCE: 9133.94921875\n"
          ]
        },
        {
          "output_type": "stream",
          "name": "stderr",
          "text": [
            "\n"
          ]
        }
      ],
      "source": [
        "vae.train(train_loader, lr=lr, epochs=epochs, device=device)"
      ]
    },
    {
      "cell_type": "code",
      "execution_count": 13,
      "metadata": {
        "colab": {
          "base_uri": "https://localhost:8080/"
        },
        "id": "hY-V_X8CeAPq",
        "outputId": "5553f903-49d9-48e9-87e4-ddf126cff110"
      },
      "outputs": [
        {
          "output_type": "stream",
          "name": "stderr",
          "text": [
            "100%|██████████| 541/541 [00:11<00:00, 46.94it/s]\n"
          ]
        },
        {
          "output_type": "stream",
          "name": "stdout",
          "text": [
            "Iteration: 0 Loss: 8880.8212890625 KLD: 274.5549621582031 BCE: 8606.2666015625\n"
          ]
        },
        {
          "output_type": "stream",
          "name": "stderr",
          "text": [
            "100%|██████████| 541/541 [00:11<00:00, 47.24it/s]\n"
          ]
        },
        {
          "output_type": "stream",
          "name": "stdout",
          "text": [
            "Iteration: 1 Loss: 9181.7119140625 KLD: 302.05682373046875 BCE: 8879.6552734375\n"
          ]
        },
        {
          "output_type": "stream",
          "name": "stderr",
          "text": [
            "100%|██████████| 541/541 [00:11<00:00, 47.43it/s]\n"
          ]
        },
        {
          "output_type": "stream",
          "name": "stdout",
          "text": [
            "Iteration: 2 Loss: 9137.5234375 KLD: 277.0059814453125 BCE: 8860.517578125\n"
          ]
        },
        {
          "output_type": "stream",
          "name": "stderr",
          "text": [
            "100%|██████████| 541/541 [00:11<00:00, 47.45it/s]\n"
          ]
        },
        {
          "output_type": "stream",
          "name": "stdout",
          "text": [
            "Iteration: 3 Loss: 9424.435546875 KLD: 226.15231323242188 BCE: 9198.283203125\n"
          ]
        },
        {
          "output_type": "stream",
          "name": "stderr",
          "text": [
            "100%|██████████| 541/541 [00:11<00:00, 47.23it/s]\n"
          ]
        },
        {
          "output_type": "stream",
          "name": "stdout",
          "text": [
            "Iteration: 4 Loss: 10180.8017578125 KLD: 219.3225555419922 BCE: 9961.4794921875\n"
          ]
        },
        {
          "output_type": "stream",
          "name": "stderr",
          "text": [
            "100%|██████████| 541/541 [00:11<00:00, 47.68it/s]\n"
          ]
        },
        {
          "output_type": "stream",
          "name": "stdout",
          "text": [
            "Iteration: 5 Loss: 9570.693359375 KLD: 241.86936950683594 BCE: 9328.82421875\n"
          ]
        },
        {
          "output_type": "stream",
          "name": "stderr",
          "text": [
            "100%|██████████| 541/541 [00:11<00:00, 47.51it/s]\n"
          ]
        },
        {
          "output_type": "stream",
          "name": "stdout",
          "text": [
            "Iteration: 6 Loss: 10433.720703125 KLD: 211.40023803710938 BCE: 10222.3203125\n"
          ]
        },
        {
          "output_type": "stream",
          "name": "stderr",
          "text": [
            "100%|██████████| 541/541 [00:11<00:00, 47.75it/s]\n"
          ]
        },
        {
          "output_type": "stream",
          "name": "stdout",
          "text": [
            "Iteration: 7 Loss: 8801.3828125 KLD: 250.1842498779297 BCE: 8551.1982421875\n"
          ]
        },
        {
          "output_type": "stream",
          "name": "stderr",
          "text": [
            "100%|██████████| 541/541 [00:11<00:00, 47.29it/s]\n"
          ]
        },
        {
          "output_type": "stream",
          "name": "stdout",
          "text": [
            "Iteration: 8 Loss: 9881.767578125 KLD: 220.66363525390625 BCE: 9661.103515625\n"
          ]
        },
        {
          "output_type": "stream",
          "name": "stderr",
          "text": [
            "100%|██████████| 541/541 [00:11<00:00, 46.32it/s]"
          ]
        },
        {
          "output_type": "stream",
          "name": "stdout",
          "text": [
            "Iteration: 9 Loss: 9744.794921875 KLD: 224.21011352539062 BCE: 9520.5849609375\n"
          ]
        },
        {
          "output_type": "stream",
          "name": "stderr",
          "text": [
            "\n"
          ]
        }
      ],
      "source": [
        "vae.train(train_loader, lr=lr, epochs=epochs, device=device)"
      ]
    },
    {
      "cell_type": "code",
      "execution_count": 14,
      "metadata": {
        "id": "t10HwjulyPB7",
        "colab": {
          "base_uri": "https://localhost:8080/",
          "height": 1000
        },
        "outputId": "468ec773-7e9b-4f6e-81c0-d9481121946b"
      },
      "outputs": [
        {
          "output_type": "display_data",
          "data": {
            "text/plain": [
              "<Figure size 432x288 with 2 Axes>"
            ],
            "image/png": "[encoded data removed]"
          },
          "metadata": {
            "needs_background": "light"
          }
        },
        {
          "output_type": "display_data",
          "data": {
            "text/plain": [
              "<Figure size 432x288 with 2 Axes>"
            ],
            "image/png": "[encoded data removed]"
          },
          "metadata": {
            "needs_background": "light"
          }
        },
        {
          "output_type": "display_data",
          "data": {
            "text/plain": [
              "<Figure size 432x288 with 2 Axes>"
            ],
            "image/png": "[encoded data removed]"
          },
          "metadata": {
            "needs_background": "light"
          }
        },
        {
          "output_type": "display_data",
          "data": {
            "text/plain": [
              "<Figure size 432x288 with 2 Axes>"
            ],
            "image/png": "[encoded data removed]"
          },
          "metadata": {
            "needs_background": "light"
          }
        },
        {
          "output_type": "display_data",
          "data": {
            "text/plain": [
              "<Figure size 432x288 with 2 Axes>"
            ],
            "image/png": "[encoded data removed]"
          },
          "metadata": {
            "needs_background": "light"
          }
        },
        {
          "output_type": "display_data",
          "data": {
            "text/plain": [
              "<Figure size 432x288 with 2 Axes>"
            ],
            "image/png": "[encoded data removed]"
          },
          "metadata": {
            "needs_background": "light"
          }
        },
        {
          "output_type": "display_data",
          "data": {
            "text/plain": [
              "<Figure size 432x288 with 2 Axes>"
            ],
            "image/png": "[encoded data removed]"
          },
          "metadata": {
            "needs_background": "light"
          }
        },
        {
          "output_type": "display_data",
          "data": {
            "text/plain": [
              "<Figure size 432x288 with 2 Axes>"
            ],
            "image/png": "[encoded data removed]"
          },
          "metadata": {
            "needs_background": "light"
          }
        },
        {
          "output_type": "display_data",
          "data": {
            "text/plain": [
              "<Figure size 432x288 with 2 Axes>"
            ],
            "image/png": "[encoded data removed]"
          },
          "metadata": {
            "needs_background": "light"
          }
        },
        {
          "output_type": "display_data",
          "data": {
            "text/plain": [
              "<Figure size 432x288 with 2 Axes>"
            ],
            "image/png": "[encoded data removed]"
          },
          "metadata": {
            "needs_background": "light"
          }
        },
        {
          "output_type": "display_data",
          "data": {
            "text/plain": [
              "<Figure size 432x288 with 2 Axes>"
            ],
            "image/png": "[encoded data removed]"
          },
          "metadata": {
            "needs_background": "light"
          }
        }
      ],
      "source": [
        "max_index = 17778 #blood=3421, , path=7180, organAMNIST=17778\n",
        "c_size = n_classes\n",
        "for r in range(0,c_size):\n",
        "  index = random.randint(0, max_index)\n",
        "  test_img = test_dataset[index][0][None,:,:,:].to(device)\n",
        "  test_c = test_dataset[index][1][None,:]\n",
        "  c = torch.LongTensor(test_c).to(device)\n",
        "  c = vae.one_hot(c,c_size)\n",
        "  #print(c)\n",
        "  img, mu, log = vae.forward(test_img,c)\n",
        "  fig, axs = plt.subplots(2)\n",
        "  fig.suptitle('Test and created for class: ' + str(test_dataset[index][1][0]))\n",
        "  if channels < 3:\n",
        "   axs[0].imshow(test_img[0,0,:,:].moveaxis(0, 1).cpu().detach().numpy(), cmap=\"gray\")\n",
        "   axs[1].imshow(img[0,0,:,:].moveaxis(0, 1).cpu().detach().numpy(), cmap=\"gray\")\n",
        "  else:\n",
        "    axs[0].imshow(test_img[0].moveaxis(0, 2).cpu().detach().numpy(), cmap=\"gray\")\n",
        "    axs[1].imshow(img[0].moveaxis(0, 2).cpu().detach().numpy(), cmap=\"gray\")\n",
        "  plt.plot()"
      ]
    },
    {
      "cell_type": "code",
      "execution_count": null,
      "metadata": {
        "id": "XK1T4wmcU2LP"
      },
      "outputs": [],
      "source": [
        "# maybe CVAE is not able to generate better results: https://openaccess.thecvf.com/content_ICCV_2017/papers/Bao_CVAE-GAN_Fine-Grained_Image_ICCV_2017_paper.pdf"
      ]
    },
    {
      "cell_type": "code",
      "execution_count": null,
      "metadata": {
        "id": "aqnZbc-qT7rT"
      },
      "outputs": [],
      "source": [
        "def plot_latent(autoencoder, data, num_batches=64, class_size=1):\n",
        "    for i, (x, y) in enumerate(data):\n",
        "        labels = vae.one_hot(y,class_size)\n",
        "        z_mu, z_var = autoencoder.encoder.forward(x.to(device), labels.to(device))\n",
        "        z_mu = z_mu.to('cpu').detach().numpy()\n",
        "        z_var = z_var.to('cpu').detach().numpy()\n",
        "        N= torch.distributions.Normal(0, 1)\n",
        "        z = z_mu + z_var* N.sample(z_mu.shape).detach().numpy()\n",
        "        colors = y.to('cpu').detach().numpy()\n",
        "        plt.scatter(z[:,0], z[:,1], c=colors[:,0], cmap='tab10')\n",
        "        if i > num_batches:\n",
        "            plt.colorbar()\n",
        "            break\n",
        "    plt.show()"
      ]
    },
    {
      "cell_type": "code",
      "execution_count": null,
      "metadata": {
        "id": "7Y8mGjOhi_L8"
      },
      "outputs": [],
      "source": [
        "plot_latent(vae, train_loader, class_size=8)"
      ]
    },
    {
      "cell_type": "code",
      "execution_count": null,
      "metadata": {
        "id": "8xiaEqaj0bUN"
      },
      "outputs": [],
      "source": [
        "c_size = 8\n",
        "c_idx = 0\n",
        "for c_size in range (0,c_size):\n",
        "  #index = random.randint(0, 100)\n",
        "  print(len(test_dataset.labels))\n",
        "  for idx in range(0,len(test_dataset.labels)):\n",
        "    #print(test_dataset.labels[idx][0][0])\n",
        "    print(test_dataset.labels.index(c))\n",
        "    if test_dataset.labels[idx][0] == c:\n",
        "      print(test_dataset.labels[idx])\n",
        "      c_idx = idx\n",
        "      print(c_idx)\n",
        "    test_img = test_dataset[c_idx][0][None,:,:,:].to(device)\n",
        "    test_c = test_dataset.labels[c_idx][0]\n",
        "    print(test_c)\n",
        "    c = torch.LongTensor(test_c).to(device)\n",
        "    c = vae.one_hot(c,c_size)\n",
        "    img, mu, log = vae.forward(test_img,c)\n",
        "    fig, axs = plt.subplots(2)\n",
        "    fig.suptitle('Test and created')\n",
        "    axs[0].imshow(test_img[0].moveaxis(0, 2).cpu().detach().numpy(), cmap=\"gray\")\n",
        "    axs[1].imshow(img[0].moveaxis(0, 2).cpu().detach().numpy(), cmap=\"gray\")\n",
        "  plt.plot()"
      ]
    },
    {
      "cell_type": "code",
      "execution_count": null,
      "metadata": {
        "id": "nSfIEAIsN9jP"
      },
      "outputs": [],
      "source": [
        "def plot_reconstructed(autoencoder, r0=(-5, 10), r1=(-10, 5), n=12, latent_dim=2):\n",
        "    w = 28\n",
        "    c_size = 8\n",
        "    img = np.zeros((n*w, n*w,3))\n",
        "    c = [(random.randint(0, c_size))]\n",
        "    c = torch.LongTensor(c)[None,:]\n",
        "    c = autoencoder.one_hot(c,c_size)\n",
        "    for i, y in enumerate(np.linspace(*r1, n)):\n",
        "        for j, x in enumerate(np.linspace(*r0, n)):\n",
        "            z = torch.randint(-1,1, (1,latent_dims), dtype=torch.float, device=device)\n",
        "            # z = torch.Tensor([[x, y]]).to(device)\n",
        "            x_hat = autoencoder.decoder(z,c)\n",
        "            # print(z)\n",
        "            x_hat = x_hat.reshape(3, 28, 28).moveaxis(0,2).to('cpu').detach().numpy()\n",
        "            img[(n-1-i)*w:(n-1-i+1)*w, j*w:(j+1)*w,:] = x_hat\n",
        "    plt.figure(figsize=(10,10))\n",
        "    plt.imshow(img, extent=[*r0, *r1])\n",
        "    plt.show()"
      ]
    },
    {
      "cell_type": "code",
      "execution_count": null,
      "metadata": {
        "id": "8yckqvIBOIiN"
      },
      "outputs": [],
      "source": [
        "#plot_reconstructed(vae, r0=(-1, 1), r1=(-1, 1), latent_dim=latent_dims)"
      ]
    },
    {
      "cell_type": "code",
      "execution_count": null,
      "metadata": {
        "id": "hKx-9Drx54sQ"
      },
      "outputs": [],
      "source": [
        "i = torch.randn((3, 28, 28))\n",
        "conv1 = nn.Conv2d(3, 6, 3, stride=2)\n",
        "conv2 = nn.Conv2d(6, 12, 3, stride=2)   \n",
        "bn1 = nn.BatchNorm2d(6)\n",
        "bn2 = nn.BatchNorm2d(12)\n",
        "relu = nn.ReLU()\n",
        "x =relu(bn1(conv1(i)[None, :]))\n",
        "#print(x.shape)\n",
        "x = relu(bn2(conv2(x)))\n",
        "#print(x.shape)\n",
        "#print(x.shape[1])\n",
        "\n",
        "i = torch.randn((12, 3, 3))\n",
        "conv1 = nn.ConvTranspose2d(12,6,3, stride=2)\n",
        "conv2 = nn.ConvTranspose2d(6,3,3, stride=2, output_padding=1)\n",
        "conv3 = nn.ConvTranspose2d(3,3,1, stride=1)\n",
        "\n",
        "x = conv1(i)\n",
        "x = conv2(x)\n",
        "print(x.shape)\n",
        "x = conv3(x)\n",
        "print(x.shape)"
      ]
    }
  ],
  "metadata": {
    "accelerator": "GPU",
    "colab": {
      "collapsed_sections": [],
      "name": "C_VAE.ipynb",
      "provenance": [],
      "authorship_tag": "ABX9TyMcCgVw/ZSkiooVHD9/kgyd",
      "include_colab_link": true
    },
    "gpuClass": "standard",
    "kernelspec": {
      "display_name": "Python 3",
      "name": "python3"
    },
    "language_info": {
      "name": "python"
    },
    "widgets": {
      "application/vnd.jupyter.widget-state+json": {
        "b6a4377144bc492eaef70b4b3e778ece": {
          "model_module": "@jupyter-widgets/controls",
          "model_name": "HBoxModel",
          "model_module_version": "1.5.0",
          "state": {
            "_dom_classes": [],
            "_model_module": "@jupyter-widgets/controls",
            "_model_module_version": "1.5.0",
            "_model_name": "HBoxModel",
            "_view_count": null,
            "_view_module": "@jupyter-widgets/controls",
            "_view_module_version": "1.5.0",
            "_view_name": "HBoxView",
            "box_style": "",
            "children": [
              "IPY_MODEL_0d44db824d2645bc8c33f4c068f40458",
              "IPY_MODEL_42589e10063f4c899a6a16141885a79b",
              "IPY_MODEL_1e5f78e0e41f43c18c2bc9becf22239f"
            ],
            "layout": "IPY_MODEL_8a3ae0d775594de0a17507d847585038"
          }
        },
        "0d44db824d2645bc8c33f4c068f40458": {
          "model_module": "@jupyter-widgets/controls",
          "model_name": "HTMLModel",
          "model_module_version": "1.5.0",
          "state": {
            "_dom_classes": [],
            "_model_module": "@jupyter-widgets/controls",
            "_model_module_version": "1.5.0",
            "_model_name": "HTMLModel",
            "_view_count": null,
            "_view_module": "@jupyter-widgets/controls",
            "_view_module_version": "1.5.0",
            "_view_name": "HTMLView",
            "description": "",
            "description_tooltip": null,
            "layout": "IPY_MODEL_32e8e31bb20c49869320f8561565c6ef",
            "placeholder": "​",
            "style": "IPY_MODEL_ca103825a2e24c89bfd6349b45c76a2f",
            "value": ""
          }
        },
        "42589e10063f4c899a6a16141885a79b": {
          "model_module": "@jupyter-widgets/controls",
          "model_name": "FloatProgressModel",
          "model_module_version": "1.5.0",
          "state": {
            "_dom_classes": [],
            "_model_module": "@jupyter-widgets/controls",
            "_model_module_version": "1.5.0",
            "_model_name": "FloatProgressModel",
            "_view_count": null,
            "_view_module": "@jupyter-widgets/controls",
            "_view_module_version": "1.5.0",
            "_view_name": "ProgressView",
            "bar_style": "success",
            "description": "",
            "description_tooltip": null,
            "layout": "IPY_MODEL_ead6d48eee45449582021ec9f15fb7e4",
            "max": 38247903,
            "min": 0,
            "orientation": "horizontal",
            "style": "IPY_MODEL_79d25318d0ba48d9aaf58ce7c5988f4b",
            "value": 38247903
          }
        },
        "1e5f78e0e41f43c18c2bc9becf22239f": {
          "model_module": "@jupyter-widgets/controls",
          "model_name": "HTMLModel",
          "model_module_version": "1.5.0",
          "state": {
            "_dom_classes": [],
            "_model_module": "@jupyter-widgets/controls",
            "_model_module_version": "1.5.0",
            "_model_name": "HTMLModel",
            "_view_count": null,
            "_view_module": "@jupyter-widgets/controls",
            "_view_module_version": "1.5.0",
            "_view_name": "HTMLView",
            "description": "",
            "description_tooltip": null,
            "layout": "IPY_MODEL_31e34d4331fe47818db19c47864d7ef9",
            "placeholder": "​",
            "style": "IPY_MODEL_95891e7bb2c046129134aa2d4c5a2c09",
            "value": " 38248448/? [00:02&lt;00:00, 27631662.03it/s]"
          }
        },
        "8a3ae0d775594de0a17507d847585038": {
          "model_module": "@jupyter-widgets/base",
          "model_name": "LayoutModel",
          "model_module_version": "1.2.0",
          "state": {
            "_model_module": "@jupyter-widgets/base",
            "_model_module_version": "1.2.0",
            "_model_name": "LayoutModel",
            "_view_count": null,
            "_view_module": "@jupyter-widgets/base",
            "_view_module_version": "1.2.0",
            "_view_name": "LayoutView",
            "align_content": null,
            "align_items": null,
            "align_self": null,
            "border": null,
            "bottom": null,
            "display": null,
            "flex": null,
            "flex_flow": null,
            "grid_area": null,
            "grid_auto_columns": null,
            "grid_auto_flow": null,
            "grid_auto_rows": null,
            "grid_column": null,
            "grid_gap": null,
            "grid_row": null,
            "grid_template_areas": null,
            "grid_template_columns": null,
            "grid_template_rows": null,
            "height": null,
            "justify_content": null,
            "justify_items": null,
            "left": null,
            "margin": null,
            "max_height": null,
            "max_width": null,
            "min_height": null,
            "min_width": null,
            "object_fit": null,
            "object_position": null,
            "order": null,
            "overflow": null,
            "overflow_x": null,
            "overflow_y": null,
            "padding": null,
            "right": null,
            "top": null,
            "visibility": null,
            "width": null
          }
        },
        "32e8e31bb20c49869320f8561565c6ef": {
          "model_module": "@jupyter-widgets/base",
          "model_name": "LayoutModel",
          "model_module_version": "1.2.0",
          "state": {
            "_model_module": "@jupyter-widgets/base",
            "_model_module_version": "1.2.0",
            "_model_name": "LayoutModel",
            "_view_count": null,
            "_view_module": "@jupyter-widgets/base",
            "_view_module_version": "1.2.0",
            "_view_name": "LayoutView",
            "align_content": null,
            "align_items": null,
            "align_self": null,
            "border": null,
            "bottom": null,
            "display": null,
            "flex": null,
            "flex_flow": null,
            "grid_area": null,
            "grid_auto_columns": null,
            "grid_auto_flow": null,
            "grid_auto_rows": null,
            "grid_column": null,
            "grid_gap": null,
            "grid_row": null,
            "grid_template_areas": null,
            "grid_template_columns": null,
            "grid_template_rows": null,
            "height": null,
            "justify_content": null,
            "justify_items": null,
            "left": null,
            "margin": null,
            "max_height": null,
            "max_width": null,
            "min_height": null,
            "min_width": null,
            "object_fit": null,
            "object_position": null,
            "order": null,
            "overflow": null,
            "overflow_x": null,
            "overflow_y": null,
            "padding": null,
            "right": null,
            "top": null,
            "visibility": null,
            "width": null
          }
        },
        "ca103825a2e24c89bfd6349b45c76a2f": {
          "model_module": "@jupyter-widgets/controls",
          "model_name": "DescriptionStyleModel",
          "model_module_version": "1.5.0",
          "state": {
            "_model_module": "@jupyter-widgets/controls",
            "_model_module_version": "1.5.0",
            "_model_name": "DescriptionStyleModel",
            "_view_count": null,
            "_view_module": "@jupyter-widgets/base",
            "_view_module_version": "1.2.0",
            "_view_name": "StyleView",
            "description_width": ""
          }
        },
        "ead6d48eee45449582021ec9f15fb7e4": {
          "model_module": "@jupyter-widgets/base",
          "model_name": "LayoutModel",
          "model_module_version": "1.2.0",
          "state": {
            "_model_module": "@jupyter-widgets/base",
            "_model_module_version": "1.2.0",
            "_model_name": "LayoutModel",
            "_view_count": null,
            "_view_module": "@jupyter-widgets/base",
            "_view_module_version": "1.2.0",
            "_view_name": "LayoutView",
            "align_content": null,
            "align_items": null,
            "align_self": null,
            "border": null,
            "bottom": null,
            "display": null,
            "flex": null,
            "flex_flow": null,
            "grid_area": null,
            "grid_auto_columns": null,
            "grid_auto_flow": null,
            "grid_auto_rows": null,
            "grid_column": null,
            "grid_gap": null,
            "grid_row": null,
            "grid_template_areas": null,
            "grid_template_columns": null,
            "grid_template_rows": null,
            "height": null,
            "justify_content": null,
            "justify_items": null,
            "left": null,
            "margin": null,
            "max_height": null,
            "max_width": null,
            "min_height": null,
            "min_width": null,
            "object_fit": null,
            "object_position": null,
            "order": null,
            "overflow": null,
            "overflow_x": null,
            "overflow_y": null,
            "padding": null,
            "right": null,
            "top": null,
            "visibility": null,
            "width": null
          }
        },
        "79d25318d0ba48d9aaf58ce7c5988f4b": {
          "model_module": "@jupyter-widgets/controls",
          "model_name": "ProgressStyleModel",
          "model_module_version": "1.5.0",
          "state": {
            "_model_module": "@jupyter-widgets/controls",
            "_model_module_version": "1.5.0",
            "_model_name": "ProgressStyleModel",
            "_view_count": null,
            "_view_module": "@jupyter-widgets/base",
            "_view_module_version": "1.2.0",
            "_view_name": "StyleView",
            "bar_color": null,
            "description_width": ""
          }
        },
        "31e34d4331fe47818db19c47864d7ef9": {
          "model_module": "@jupyter-widgets/base",
          "model_name": "LayoutModel",
          "model_module_version": "1.2.0",
          "state": {
            "_model_module": "@jupyter-widgets/base",
            "_model_module_version": "1.2.0",
            "_model_name": "LayoutModel",
            "_view_count": null,
            "_view_module": "@jupyter-widgets/base",
            "_view_module_version": "1.2.0",
            "_view_name": "LayoutView",
            "align_content": null,
            "align_items": null,
            "align_self": null,
            "border": null,
            "bottom": null,
            "display": null,
            "flex": null,
            "flex_flow": null,
            "grid_area": null,
            "grid_auto_columns": null,
            "grid_auto_flow": null,
            "grid_auto_rows": null,
            "grid_column": null,
            "grid_gap": null,
            "grid_row": null,
            "grid_template_areas": null,
            "grid_template_columns": null,
            "grid_template_rows": null,
            "height": null,
            "justify_content": null,
            "justify_items": null,
            "left": null,
            "margin": null,
            "max_height": null,
            "max_width": null,
            "min_height": null,
            "min_width": null,
            "object_fit": null,
            "object_position": null,
            "order": null,
            "overflow": null,
            "overflow_x": null,
            "overflow_y": null,
            "padding": null,
            "right": null,
            "top": null,
            "visibility": null,
            "width": null
          }
        },
        "95891e7bb2c046129134aa2d4c5a2c09": {
          "model_module": "@jupyter-widgets/controls",
          "model_name": "DescriptionStyleModel",
          "model_module_version": "1.5.0",
          "state": {
            "_model_module": "@jupyter-widgets/controls",
            "_model_module_version": "1.5.0",
            "_model_name": "DescriptionStyleModel",
            "_view_count": null,
            "_view_module": "@jupyter-widgets/base",
            "_view_module_version": "1.2.0",
            "_view_name": "StyleView",
            "description_width": ""
          }
        }
      }
    }
  },
  "nbformat": 4,
  "nbformat_minor": 0
}